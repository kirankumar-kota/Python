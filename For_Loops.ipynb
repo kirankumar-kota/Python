{
  "nbformat": 4,
  "nbformat_minor": 0,
  "metadata": {
    "colab": {
      "provenance": []
    },
    "kernelspec": {
      "name": "python3",
      "display_name": "Python 3"
    }
  },
  "cells": [
    {
      "cell_type": "code",
      "metadata": {
        "colab": {
          "base_uri": "https://localhost:8080/"
        },
        "id": "_m6PS1IZicgu",
        "outputId": "ab485cdc-418d-4a6e-ac52-628eaeb13586"
      },
      "source": [
        "for i in range(0,10,2):\n",
        "  print(i)"
      ],
      "execution_count": null,
      "outputs": [
        {
          "output_type": "stream",
          "text": [
            "0\n",
            "2\n",
            "4\n",
            "6\n",
            "8\n"
          ],
          "name": "stdout"
        }
      ]
    },
    {
      "cell_type": "code",
      "metadata": {
        "colab": {
          "base_uri": "https://localhost:8080/"
        },
        "id": "LyHgJd8bimg2",
        "outputId": "0e339231-28d8-4fc2-d4f6-49d40e956290"
      },
      "source": [
        "#simple interest calculation\n",
        "p=int(input(\"Enter principal\"))\n",
        "r=int(input(\"rate of interest\"))\n",
        "t=int(input(\"number of years\"))\n",
        "interest=0\n",
        "\n",
        "for i in range(0,t):\n",
        "  interest=(p*r)/100\n",
        "  p=p+interest #Amount at the time of withdrawl\n",
        "print(p)\n"
      ],
      "execution_count": null,
      "outputs": [
        {
          "output_type": "stream",
          "text": [
            "Enter principal10000\n",
            "rate of interest5\n",
            "number of years2\n",
            "11025.0\n"
          ],
          "name": "stdout"
        }
      ]
    },
    {
      "cell_type": "code",
      "metadata": {
        "colab": {
          "base_uri": "https://localhost:8080/"
        },
        "id": "SfTHRw7Bj4S2",
        "outputId": "1ae85868-4c80-404b-a72a-8b249e8d72e7"
      },
      "source": [
        "#sum of all numbers in a given range\n",
        "low_range=int(input(\"enter the lower range\"))\n",
        "up_range=int(input(\"enter the upper range\"))\n",
        "\n",
        "sum=0\n",
        "i=0\n",
        "for i in range(low_range, up_range):\n",
        "  sum+=i\n",
        "\n",
        "print(sum)"
      ],
      "execution_count": null,
      "outputs": [
        {
          "output_type": "stream",
          "text": [
            "enter the lower range1\n",
            "enter the upper range5\n",
            "10\n"
          ],
          "name": "stdout"
        }
      ]
    }
  ]
}