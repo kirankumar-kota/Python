{
  "nbformat": 4,
  "nbformat_minor": 0,
  "metadata": {
    "colab": {
      "provenance": []
    },
    "kernelspec": {
      "name": "python3",
      "display_name": "Python 3"
    }
  },
  "cells": [
    {
      "cell_type": "markdown",
      "metadata": {
        "id": "view-in-github"
      },
      "source": [
        "<a href=\"https://colab.research.google.com/github/charlie-aashutosh/python_codes/blob/master/Stacks_DataStructure.ipynb\" target=\"_parent\"><img src=\"https://colab.research.google.com/assets/colab-badge.svg\" alt=\"Open In Colab\"/></a>"
      ]
    },
    {
      "cell_type": "code",
      "metadata": {
        "id": "Wl2JfXlsCipQ"
      },
      "source": [
        "#Stacks implementation using Lists"
      ],
      "execution_count": null,
      "outputs": []
    },
    {
      "cell_type": "code",
      "metadata": {
        "id": "2HTzLTlNBvZn"
      },
      "source": [
        "s=[] #stack\n",
        "\n",
        "#Push operation using append function\n",
        "s.append('https://edition.cnn.com/')\n",
        "s.append('https://edition.cnn.com/entertainment')\n",
        "s.append('https://edition.cnn.com/sport')\n",
        "s.append('https://edition.cnn.com/health')"
      ],
      "execution_count": null,
      "outputs": []
    },
    {
      "cell_type": "code",
      "metadata": {
        "colab": {
          "base_uri": "https://localhost:8080/"
        },
        "id": "KvYOhrPPCOEt",
        "outputId": "81d19d04-b810-4223-b621-412ad8a815e0"
      },
      "source": [
        "print(s)"
      ],
      "execution_count": null,
      "outputs": [
        {
          "output_type": "stream",
          "text": [
            "['https://edition.cnn.com/', 'https://edition.cnn.com/entertainment', 'https://edition.cnn.com/sport', 'https://edition.cnn.com/health']\n"
          ],
          "name": "stdout"
        }
      ]
    },
    {
      "cell_type": "code",
      "metadata": {
        "colab": {
          "base_uri": "https://localhost:8080/",
          "height": 35
        },
        "id": "-pdT_lNpCW2l",
        "outputId": "8e0b07cf-3f41-430b-de1a-9ab538ada946"
      },
      "source": [
        "#Pop operation using pop function\n",
        "s.pop()"
      ],
      "execution_count": null,
      "outputs": [
        {
          "output_type": "execute_result",
          "data": {
            "application/vnd.google.colaboratory.intrinsic+json": {
              "type": "string"
            },
            "text/plain": [
              "'https://edition.cnn.com/health'"
            ]
          },
          "metadata": {
            "tags": []
          },
          "execution_count": 6
        }
      ]
    },
    {
      "cell_type": "code",
      "metadata": {
        "colab": {
          "base_uri": "https://localhost:8080/",
          "height": 35
        },
        "id": "K2RTcJh4DTiu",
        "outputId": "fe98f178-92d4-4e8f-c989-c1fe5bf79a01"
      },
      "source": [
        "s.pop()"
      ],
      "execution_count": null,
      "outputs": [
        {
          "output_type": "execute_result",
          "data": {
            "application/vnd.google.colaboratory.intrinsic+json": {
              "type": "string"
            },
            "text/plain": [
              "'https://edition.cnn.com/sport'"
            ]
          },
          "metadata": {
            "tags": []
          },
          "execution_count": 7
        }
      ]
    },
    {
      "cell_type": "code",
      "metadata": {
        "colab": {
          "base_uri": "https://localhost:8080/",
          "height": 35
        },
        "id": "zY7VKdr4DXiB",
        "outputId": "b1088cd2-260e-493b-c589-a3d0ab5bf75e"
      },
      "source": [
        "s.pop()"
      ],
      "execution_count": null,
      "outputs": [
        {
          "output_type": "execute_result",
          "data": {
            "application/vnd.google.colaboratory.intrinsic+json": {
              "type": "string"
            },
            "text/plain": [
              "'https://edition.cnn.com/entertainment'"
            ]
          },
          "metadata": {
            "tags": []
          },
          "execution_count": 8
        }
      ]
    },
    {
      "cell_type": "code",
      "metadata": {
        "colab": {
          "base_uri": "https://localhost:8080/",
          "height": 35
        },
        "id": "xI2ZbMEQDZac",
        "outputId": "ebd326e3-4743-454e-c698-b565558c0b08"
      },
      "source": [
        "s.pop()"
      ],
      "execution_count": null,
      "outputs": [
        {
          "output_type": "execute_result",
          "data": {
            "application/vnd.google.colaboratory.intrinsic+json": {
              "type": "string"
            },
            "text/plain": [
              "'https://edition.cnn.com/'"
            ]
          },
          "metadata": {
            "tags": []
          },
          "execution_count": 9
        }
      ]
    },
    {
      "cell_type": "code",
      "metadata": {
        "id": "8aKTaNGNHsXU"
      },
      "source": [
        "from collections import deque"
      ],
      "execution_count": null,
      "outputs": []
    },
    {
      "cell_type": "code",
      "metadata": {
        "id": "bSx0e4r3F-bg"
      },
      "source": [
        "class Stack:\n",
        "\n",
        "  def __init__(self):\n",
        "    self.container=deque()\n",
        "\n",
        "  def push(self,value): #add elements to the stack\n",
        "    self.container.append(value)\n",
        "\n",
        "  def pop(self): #displays and removes the element from stack\n",
        "    return self.container.pop()\n",
        "\n",
        "  def peek(self): #only displays and does not remove the element from stack\n",
        "    return self.container[-1]\n",
        "\n",
        "  def is_empty(self):\n",
        "    return len(self.container)==0\n",
        "\n",
        "  def size(self):\n",
        "    return len(self.container)"
      ],
      "execution_count": null,
      "outputs": []
    },
    {
      "cell_type": "code",
      "metadata": {
        "id": "bu55-sc4HKkF"
      },
      "source": [
        "s=Stack()"
      ],
      "execution_count": null,
      "outputs": []
    },
    {
      "cell_type": "code",
      "metadata": {
        "id": "dC5iRXABHpXu"
      },
      "source": [
        "s.push(5)"
      ],
      "execution_count": null,
      "outputs": []
    },
    {
      "cell_type": "code",
      "metadata": {
        "id": "j4z_qQm1H_PY"
      },
      "source": [
        "s.push(10)"
      ],
      "execution_count": null,
      "outputs": []
    },
    {
      "cell_type": "code",
      "metadata": {
        "colab": {
          "base_uri": "https://localhost:8080/"
        },
        "id": "LQRzHe7jICYa",
        "outputId": "50fadf1f-fb36-4de5-f46a-00084564a801"
      },
      "source": [
        "s.peek()"
      ],
      "execution_count": null,
      "outputs": [
        {
          "output_type": "execute_result",
          "data": {
            "text/plain": [
              "10"
            ]
          },
          "metadata": {
            "tags": []
          },
          "execution_count": 19
        }
      ]
    },
    {
      "cell_type": "code",
      "metadata": {
        "colab": {
          "base_uri": "https://localhost:8080/"
        },
        "id": "8bj4W9hAIHRp",
        "outputId": "b2e6263b-95cb-4f10-e287-0413cb8b89e8"
      },
      "source": [
        "s.peek()"
      ],
      "execution_count": null,
      "outputs": [
        {
          "output_type": "execute_result",
          "data": {
            "text/plain": [
              "10"
            ]
          },
          "metadata": {
            "tags": []
          },
          "execution_count": 20
        }
      ]
    },
    {
      "cell_type": "code",
      "metadata": {
        "colab": {
          "base_uri": "https://localhost:8080/"
        },
        "id": "j_PPGuFrILMN",
        "outputId": "27638d5a-0a11-4978-d6c9-bf6a234b35cf"
      },
      "source": [
        "s.pop()"
      ],
      "execution_count": null,
      "outputs": [
        {
          "output_type": "execute_result",
          "data": {
            "text/plain": [
              "10"
            ]
          },
          "metadata": {
            "tags": []
          },
          "execution_count": 21
        }
      ]
    },
    {
      "cell_type": "code",
      "metadata": {
        "colab": {
          "base_uri": "https://localhost:8080/"
        },
        "id": "Ou_H_iwMIX1A",
        "outputId": "ff52383d-4986-43bc-8f39-22d92e142443"
      },
      "source": [
        "s.pop()"
      ],
      "execution_count": null,
      "outputs": [
        {
          "output_type": "execute_result",
          "data": {
            "text/plain": [
              "5"
            ]
          },
          "metadata": {
            "tags": []
          },
          "execution_count": 22
        }
      ]
    },
    {
      "cell_type": "code",
      "metadata": {
        "id": "gn5qRtCCIbJB"
      },
      "source": [],
      "execution_count": null,
      "outputs": []
    }
  ]
}