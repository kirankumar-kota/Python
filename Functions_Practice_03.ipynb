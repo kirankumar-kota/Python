{
  "nbformat": 4,
  "nbformat_minor": 0,
  "metadata": {
    "colab": {
      "provenance": []
    },
    "kernelspec": {
      "name": "python3",
      "display_name": "Python 3"
    }
  },
  "cells": [
    {
      "cell_type": "markdown",
      "metadata": {
        "id": "view-in-github"
      },
      "source": [
        "<a href=\"https://colab.research.google.com/github/charlie-aashutosh/python_codes/blob/master/Functions_Practice.ipynb\" target=\"_parent\"><img src=\"https://colab.research.google.com/assets/colab-badge.svg\" alt=\"Open In Colab\"/></a>"
      ]
    },
    {
      "cell_type": "code",
      "metadata": {
        "id": "ZwttuFHzmAKo"
      },
      "source": [
        "#Create a function that can accept two arguments name and age and print its value\n",
        "def data(name,age):\n",
        "  print(\"Name is\", name,\"Age is\",age)"
      ],
      "execution_count": 1,
      "outputs": []
    },
    {
      "cell_type": "code",
      "metadata": {
        "colab": {
          "base_uri": "https://localhost:8080/"
        },
        "id": "_9C-63H1jH5s",
        "outputId": "09ccebec-c3df-4e37-cdd9-d0a289d81e19"
      },
      "source": [
        "data(\"Kiran Kumar\", 31)"
      ],
      "execution_count": 3,
      "outputs": [
        {
          "output_type": "stream",
          "name": "stdout",
          "text": [
            "Name is Kiran Kumar Age is 31\n"
          ]
        }
      ]
    },
    {
      "cell_type": "code",
      "metadata": {
        "id": "rvOWEbb7jYIc"
      },
      "source": [
        "#Write a function such that it can accept a variable length of  argument and print all arguments value\n",
        "def func(*args):\n",
        "  print(*args)\n",
        "\n"
      ],
      "execution_count": 4,
      "outputs": []
    },
    {
      "cell_type": "code",
      "metadata": {
        "colab": {
          "base_uri": "https://localhost:8080/"
        },
        "id": "sGW6Iw2rkg51",
        "outputId": "669b06ea-e427-4591-e3f8-1a1ef72653f9"
      },
      "source": [
        "func(1,2,4,567,99,23)"
      ],
      "execution_count": 5,
      "outputs": [
        {
          "output_type": "stream",
          "name": "stdout",
          "text": [
            "1 2 4 567 99 23\n"
          ]
        }
      ]
    },
    {
      "cell_type": "code",
      "metadata": {
        "id": "Zk7tazwvkkJP"
      },
      "source": [
        "#OR\n",
        "\n",
        "def func(*args):\n",
        "  for i in args:\n",
        "    print(i)"
      ],
      "execution_count": 6,
      "outputs": []
    },
    {
      "cell_type": "code",
      "metadata": {
        "colab": {
          "base_uri": "https://localhost:8080/"
        },
        "id": "gcANcXePk63d",
        "outputId": "7c2e93d7-0d37-48a5-9370-0f12efbf0867"
      },
      "source": [
        "func(23,57,12,0,12)"
      ],
      "execution_count": 7,
      "outputs": [
        {
          "output_type": "stream",
          "name": "stdout",
          "text": [
            "23\n",
            "57\n",
            "12\n",
            "0\n",
            "12\n"
          ]
        }
      ]
    },
    {
      "cell_type": "markdown",
      "metadata": {
        "id": "H0cjOvzClKFs"
      },
      "source": [
        "Write a function calculation() such that it can accept two variables and calculate the addition and subtraction of it. And also it must return both addition and subtraction in a single return call"
      ]
    },
    {
      "cell_type": "code",
      "metadata": {
        "id": "n3TzguZuk-Qr"
      },
      "source": [
        "def calculation(a,b):\n",
        "  s=a+b\n",
        "  d=a-b\n",
        "\n",
        "  print(\"Addition is \",s, \"and difference is\",d)"
      ],
      "execution_count": 8,
      "outputs": []
    },
    {
      "cell_type": "code",
      "metadata": {
        "colab": {
          "base_uri": "https://localhost:8080/"
        },
        "id": "fFZqCjM6lb_X",
        "outputId": "554618e8-217e-407e-a12c-b0d167448fcc"
      },
      "source": [
        "calculation(12,8)"
      ],
      "execution_count": 9,
      "outputs": [
        {
          "output_type": "stream",
          "name": "stdout",
          "text": [
            "Addition is  20 and difference is 4\n"
          ]
        }
      ]
    },
    {
      "cell_type": "code",
      "metadata": {
        "colab": {
          "base_uri": "https://localhost:8080/"
        },
        "id": "z0lnBjS5loe4",
        "outputId": "b633958a-6ec4-43ab-f197-c40704c4cc3f"
      },
      "source": [
        "#OR\n",
        "def calculation(a, b):\n",
        "    return a+b, a-b\n",
        "\n",
        "res = calculation(40, 10)\n",
        "print(res)"
      ],
      "execution_count": 10,
      "outputs": [
        {
          "output_type": "stream",
          "name": "stdout",
          "text": [
            "(50, 30)\n"
          ]
        }
      ]
    },
    {
      "cell_type": "markdown",
      "metadata": {
        "id": "hNmC-lMrl44E"
      },
      "source": [
        "Create an inner function to calculate the addition in the following way\n",
        "\n",
        "    Create an outer function that will accept two parameters a and b\n",
        "    Create an inner function inside an outer function that will calculate the addition of a and b\n",
        "    At last, an outer function will add 5 into addition and return it\n"
      ]
    },
    {
      "cell_type": "markdown",
      "metadata": {
        "id": "jif_0-Q9nSnr"
      },
      "source": [
        "In Python, we can create a nested function inside a function. We can use the nested function to perform complex tasks multiple times within another function or avoid loop and code duplication"
      ]
    },
    {
      "cell_type": "code",
      "metadata": {
        "colab": {
          "base_uri": "https://localhost:8080/"
        },
        "id": "0t13-JrIma2X",
        "outputId": "612ec657-18a6-438b-fb2c-41c14a445eb5"
      },
      "source": [
        "def outerFun(a, b):\n",
        "    square = a**2\n",
        "    def innerFun(a,b):\n",
        "        return a+b\n",
        "    add = innerFun(a, b)\n",
        "    return add+5\n",
        "\n",
        "result = outerFun(5, 10)\n",
        "print(result)"
      ],
      "execution_count": 11,
      "outputs": [
        {
          "output_type": "stream",
          "name": "stdout",
          "text": [
            "20\n"
          ]
        }
      ]
    },
    {
      "cell_type": "code",
      "metadata": {
        "colab": {
          "base_uri": "https://localhost:8080/"
        },
        "id": "Ys0W23C3n15x",
        "outputId": "c7848e2f-77c8-439e-bc9a-f84fd3c23993"
      },
      "source": [
        "#Write a recursive function to calculate the sum of numbers from 0 to 10\n",
        "def calculateSum(num):\n",
        "    if num:\n",
        "        return num + calculateSum(num-1)\n",
        "    else:\n",
        "        return 0\n",
        "\n",
        "res = calculateSum(10)\n",
        "print(res)"
      ],
      "execution_count": null,
      "outputs": [
        {
          "output_type": "stream",
          "text": [
            "55\n"
          ],
          "name": "stdout"
        }
      ]
    },
    {
      "cell_type": "code",
      "metadata": {
        "id": "X_k3zsFxn7WL"
      },
      "source": [
        "#Write a Python function to find the Max of three numbers\n",
        "def max_of_two( x, y ):\n",
        "    if x > y:\n",
        "        return x\n",
        "    return y\n",
        "def max_of_three( x, y, z ):\n",
        "    return max_of_two( x, max_of_two( y, z ) )\n"
      ],
      "execution_count": null,
      "outputs": []
    },
    {
      "cell_type": "code",
      "metadata": {
        "colab": {
          "base_uri": "https://localhost:8080/"
        },
        "id": "Tc14B8ekphe2",
        "outputId": "4d5f3916-aaf7-4aaf-9461-7a425102efc3"
      },
      "source": [
        "max_of_three(12,5,26)"
      ],
      "execution_count": null,
      "outputs": [
        {
          "output_type": "execute_result",
          "data": {
            "text/plain": [
              "26"
            ]
          },
          "metadata": {
            "tags": []
          },
          "execution_count": 41
        }
      ]
    },
    {
      "cell_type": "code",
      "metadata": {
        "id": "WLuY3Y3wpkEf"
      },
      "source": [
        "#Write a Python function to sum all the numbers in a list.\n",
        "\n",
        "def sum(numbers):\n",
        "    total = 0\n",
        "    for x in numbers:\n",
        "        total += x\n",
        "    return total\n"
      ],
      "execution_count": null,
      "outputs": []
    },
    {
      "cell_type": "code",
      "metadata": {
        "colab": {
          "base_uri": "https://localhost:8080/"
        },
        "id": "-owEuKkKl7A6",
        "outputId": "c8cec155-624f-4504-92ec-0706b0788a68"
      },
      "source": [
        "numbers=[2,4,6]\n",
        "sum(numbers)"
      ],
      "execution_count": null,
      "outputs": [
        {
          "output_type": "execute_result",
          "data": {
            "text/plain": [
              "12"
            ]
          },
          "metadata": {
            "tags": []
          },
          "execution_count": 3
        }
      ]
    },
    {
      "cell_type": "code",
      "metadata": {
        "id": "SDQhpnyLl-xW"
      },
      "source": [
        "#Write a Python function to multiply all the numbers in a list.\n",
        "list=[2,4,6]\n",
        "\n",
        "def mul(list):\n",
        "  mul=1\n",
        "  for i in list:\n",
        "    mul=mul*i\n",
        "  return mul\n"
      ],
      "execution_count": null,
      "outputs": []
    },
    {
      "cell_type": "code",
      "metadata": {
        "colab": {
          "base_uri": "https://localhost:8080/"
        },
        "id": "B7NlmDvfmmAz",
        "outputId": "4e5e3f0d-43a4-4b2b-fcaf-8b1ae7bd94f4"
      },
      "source": [
        "mul(list)"
      ],
      "execution_count": null,
      "outputs": [
        {
          "output_type": "execute_result",
          "data": {
            "text/plain": [
              "48"
            ]
          },
          "metadata": {
            "tags": []
          },
          "execution_count": 17
        }
      ]
    },
    {
      "cell_type": "code",
      "metadata": {
        "id": "yLmopX1Jm8iN"
      },
      "source": [
        "#Write a Python program to reverse a string.\n",
        "\n",
        "def string_reverse(str1):\n",
        "\n",
        "    rstr1 = ''\n",
        "    index = len(str1)\n",
        "    while index > 0:\n",
        "        rstr1 += str1[ index - 1 ]\n",
        "        index = index - 1\n",
        "    return rstr1\n"
      ],
      "execution_count": 13,
      "outputs": []
    },
    {
      "cell_type": "code",
      "metadata": {
        "colab": {
          "base_uri": "https://localhost:8080/",
          "height": 36
        },
        "id": "jru5sQLVpvYs",
        "outputId": "77b6a6b9-ae3b-4e52-a20c-01732e5a3485"
      },
      "source": [
        "str1=('Kiran','Mamtha ')\n",
        "string_reverse(str1)"
      ],
      "execution_count": 16,
      "outputs": [
        {
          "output_type": "execute_result",
          "data": {
            "text/plain": [
              "'Mamtha Kiran'"
            ],
            "application/vnd.google.colaboratory.intrinsic+json": {
              "type": "string"
            }
          },
          "metadata": {},
          "execution_count": 16
        }
      ]
    },
    {
      "cell_type": "markdown",
      "metadata": {
        "id": "u74t4TLlnpqQ"
      },
      "source": [
        "Write a Python function to calculate the factorial of a number (a non-negative integer). The function accepts the number as an argument."
      ]
    },
    {
      "cell_type": "code",
      "metadata": {
        "colab": {
          "base_uri": "https://localhost:8080/"
        },
        "id": "jLkNJozSnqaE",
        "outputId": "984b8fef-ccee-4be6-aece-7c830554f0d8"
      },
      "source": [
        "def factorial(n):\n",
        "    if n == 0:\n",
        "        return 1\n",
        "    else:\n",
        "        return n * factorial(n-1)\n",
        "n=int(input(\"Input a number to compute the factiorial : \"))\n",
        "print(\"The factorial is \", factorial(n))"
      ],
      "execution_count": null,
      "outputs": [
        {
          "output_type": "stream",
          "text": [
            "Input a number to compute the factiorial : 4\n",
            "The factorial is  24\n"
          ],
          "name": "stdout"
        }
      ]
    },
    {
      "cell_type": "markdown",
      "metadata": {
        "id": "vjFcsprBocTM"
      },
      "source": [
        "Write a Python function to check whether a number is in a given range.\n"
      ]
    },
    {
      "cell_type": "code",
      "metadata": {
        "id": "EGPBKnNQnt5P"
      },
      "source": [
        "def test_range(n):\n",
        "    if n in range(3,9):\n",
        "        print( \" %s is in the range\"%str(n))\n",
        "    else :\n",
        "        print(\"The number is outside the given range.\")\n"
      ],
      "execution_count": 17,
      "outputs": []
    },
    {
      "cell_type": "code",
      "metadata": {
        "colab": {
          "base_uri": "https://localhost:8080/"
        },
        "id": "dDY8HISlpBCQ",
        "outputId": "72c006fe-0ddb-4505-afa0-1045b49afbf9"
      },
      "source": [
        "test_range(5)"
      ],
      "execution_count": 21,
      "outputs": [
        {
          "output_type": "stream",
          "name": "stdout",
          "text": [
            " 5 is in the range\n"
          ]
        }
      ]
    },
    {
      "cell_type": "markdown",
      "metadata": {
        "id": "slTDO6FloFI0"
      },
      "source": [
        "Write a Python function that accepts a string and calculate the number of upper case letters and lower case letters."
      ]
    },
    {
      "cell_type": "code",
      "metadata": {
        "id": "uu4kd0TQoZCQ"
      },
      "source": [
        "def string_test(s):\n",
        "    d={\"UPPER_CASE\":0, \"LOWER_CASE\":0}\n",
        "    for c in s:\n",
        "        if c.isupper():\n",
        "           d[\"UPPER_CASE\"]+=1\n",
        "        elif c.islower():\n",
        "           d[\"LOWER_CASE\"]+=1\n",
        "        else:\n",
        "           pass\n",
        "    print (\"Original String : \", s)\n",
        "    print (\"No. of Upper case characters : \", d[\"UPPER_CASE\"])\n",
        "    print (\"No. of Lower case Characters : \", d[\"LOWER_CASE\"])\n"
      ],
      "execution_count": 29,
      "outputs": []
    },
    {
      "cell_type": "code",
      "metadata": {
        "colab": {
          "base_uri": "https://localhost:8080/"
        },
        "id": "Cq6JGmkYpAEK",
        "outputId": "24934df2-0cf1-4d7f-be0e-6774dc183074"
      },
      "source": [
        "s=\"Kiran Kumar Kota\"\n",
        "string_test(s)"
      ],
      "execution_count": 30,
      "outputs": [
        {
          "output_type": "stream",
          "name": "stdout",
          "text": [
            "Original String :  Kiran Kumar Kota\n",
            "No. of Upper case characters :  3\n",
            "No. of Lower case Characters :  11\n"
          ]
        }
      ]
    },
    {
      "cell_type": "markdown",
      "metadata": {
        "id": "TgwVg7xKoLNY"
      },
      "source": [
        "Write a Python function that takes a list and returns a new list with unique elements of the first list."
      ]
    },
    {
      "cell_type": "code",
      "metadata": {
        "id": "JEzrN1mSoYP9"
      },
      "source": [
        "def unique_list(l):\n",
        "  x = []\n",
        "  for a in l:\n",
        "    if a not in x:\n",
        "      x.append(a)\n",
        "  return x"
      ],
      "execution_count": 31,
      "outputs": []
    },
    {
      "cell_type": "code",
      "metadata": {
        "colab": {
          "base_uri": "https://localhost:8080/"
        },
        "id": "Y-7o0d1FpCkY",
        "outputId": "ea960f54-f367-401b-f631-85cb9b08a2f9"
      },
      "source": [
        "x=[2,3,2,56,7,12,65,56,93]\n",
        "unique_list(x) #no repetition of elements"
      ],
      "execution_count": 32,
      "outputs": [
        {
          "output_type": "execute_result",
          "data": {
            "text/plain": [
              "[2, 3, 56, 7, 12, 65, 93]"
            ]
          },
          "metadata": {},
          "execution_count": 32
        }
      ]
    },
    {
      "cell_type": "markdown",
      "metadata": {
        "id": "Z9ewZi1ioQFp"
      },
      "source": [
        "Write a Python function that takes a number as a parameter and check the number is prime or not.\n",
        "\n",
        "Note : A prime number (or a prime) is a natural number greater than 1 and that has no positive divisors other than 1 and itself."
      ]
    },
    {
      "cell_type": "code",
      "metadata": {
        "id": "_WSYimq1oV_b"
      },
      "source": [
        "def test_prime(n):\n",
        "    if (n==1):\n",
        "        return False\n",
        "    elif (n==2):\n",
        "        return True;\n",
        "    else:\n",
        "        for x in range(2,n):\n",
        "            if(n % x==0):\n",
        "                return False\n",
        "        return True\n"
      ],
      "execution_count": null,
      "outputs": []
    },
    {
      "cell_type": "code",
      "metadata": {
        "colab": {
          "base_uri": "https://localhost:8080/"
        },
        "id": "bwQg1HVipHPI",
        "outputId": "25b0d9ef-28a4-4bbd-e637-1f60b9930c17"
      },
      "source": [
        "test_prime(43)"
      ],
      "execution_count": null,
      "outputs": [
        {
          "output_type": "execute_result",
          "data": {
            "text/plain": [
              "True"
            ]
          },
          "metadata": {
            "tags": []
          },
          "execution_count": 39
        }
      ]
    },
    {
      "cell_type": "markdown",
      "metadata": {
        "id": "BV-cHeMPoT36"
      },
      "source": [
        "Write a Python program to print the even numbers from a given list."
      ]
    },
    {
      "cell_type": "code",
      "metadata": {
        "id": "8ZqQi1MWonYH"
      },
      "source": [
        "def is_even_num(l):\n",
        "    enum = []\n",
        "    for n in l:\n",
        "        if n % 2 == 0:\n",
        "            enum.append(n)\n",
        "    return enum"
      ],
      "execution_count": null,
      "outputs": []
    },
    {
      "cell_type": "code",
      "metadata": {
        "colab": {
          "base_uri": "https://localhost:8080/"
        },
        "id": "ZoW09nUBrDH-",
        "outputId": "e0fb5945-c62e-41b5-807e-40ddb8551d36"
      },
      "source": [
        "l=[2,12,67,36,89,11,18]\n",
        "is_even_num(l)"
      ],
      "execution_count": null,
      "outputs": [
        {
          "output_type": "execute_result",
          "data": {
            "text/plain": [
              "[2, 12, 36, 18]"
            ]
          },
          "metadata": {
            "tags": []
          },
          "execution_count": 45
        }
      ]
    }
  ]
}