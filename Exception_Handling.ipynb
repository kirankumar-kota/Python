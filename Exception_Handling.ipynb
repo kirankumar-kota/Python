{
  "nbformat": 4,
  "nbformat_minor": 0,
  "metadata": {
    "colab": {
      "provenance": []
    },
    "kernelspec": {
      "name": "python3",
      "display_name": "Python 3"
    }
  },
  "cells": [
    {
      "cell_type": "markdown",
      "metadata": {
        "id": "view-in-github"
      },
      "source": [
        "<a href=\"https://colab.research.google.com/github/charlie-aashutosh/python_codes/blob/master/Exception_Handling.ipynb\" target=\"_parent\"><img src=\"https://colab.research.google.com/assets/colab-badge.svg\" alt=\"Open In Colab\"/></a>"
      ]
    },
    {
      "cell_type": "code",
      "metadata": {
        "colab": {
          "base_uri": "https://localhost:8080/",
          "height": 235
        },
        "id": "w9VnKaf-AhFI",
        "outputId": "6531d54d-5538-4c7c-d7bd-a5d63db32b47"
      },
      "source": [
        "#Runtime Error\n",
        "a=14\n",
        "\n",
        "b=0 #user provides some unwanted input\n",
        "\n",
        "print(a/b)\n",
        "\n",
        "print('Hey, there!')"
      ],
      "execution_count": null,
      "outputs": [
        {
          "output_type": "error",
          "ename": "ZeroDivisionError",
          "evalue": "ignored",
          "traceback": [
            "\u001b[0;31m---------------------------------------------------------------------------\u001b[0m",
            "\u001b[0;31mZeroDivisionError\u001b[0m                         Traceback (most recent call last)",
            "\u001b[0;32m<ipython-input-3-64d4d643d8fd>\u001b[0m in \u001b[0;36m<module>\u001b[0;34m()\u001b[0m\n\u001b[1;32m      4\u001b[0m \u001b[0mb\u001b[0m\u001b[0;34m=\u001b[0m\u001b[0;36m0\u001b[0m \u001b[0;31m#user provides some unwanted input\u001b[0m\u001b[0;34m\u001b[0m\u001b[0;34m\u001b[0m\u001b[0m\n\u001b[1;32m      5\u001b[0m \u001b[0;34m\u001b[0m\u001b[0m\n\u001b[0;32m----> 6\u001b[0;31m \u001b[0mprint\u001b[0m\u001b[0;34m(\u001b[0m\u001b[0ma\u001b[0m\u001b[0;34m/\u001b[0m\u001b[0mb\u001b[0m\u001b[0;34m)\u001b[0m\u001b[0;34m\u001b[0m\u001b[0;34m\u001b[0m\u001b[0m\n\u001b[0m\u001b[1;32m      7\u001b[0m \u001b[0;34m\u001b[0m\u001b[0m\n\u001b[1;32m      8\u001b[0m \u001b[0mprint\u001b[0m\u001b[0;34m(\u001b[0m\u001b[0;34m'Hey, there!'\u001b[0m\u001b[0;34m)\u001b[0m\u001b[0;34m\u001b[0m\u001b[0;34m\u001b[0m\u001b[0m\n",
            "\u001b[0;31mZeroDivisionError\u001b[0m: division by zero"
          ]
        }
      ]
    },
    {
      "cell_type": "code",
      "metadata": {
        "id": "U222_TOMCjAL"
      },
      "source": [
        "#try\n",
        "#except\n",
        "#finally"
      ],
      "execution_count": null,
      "outputs": []
    },
    {
      "cell_type": "code",
      "metadata": {
        "colab": {
          "base_uri": "https://localhost:8080/"
        },
        "id": "YmCvUPA7DgFR",
        "outputId": "305f24f1-9e85-474b-81fa-21e6d1342e72"
      },
      "source": [
        "a=14\n",
        "\n",
        "b=12 #user provides some unwanted input\n",
        "\n",
        "try:\n",
        "  print(a/b) #critical statement\n",
        "except Exception:\n",
        "  print('Hey, please provide a valid input for division')\n",
        "\n",
        "print('Hey, there!')"
      ],
      "execution_count": null,
      "outputs": [
        {
          "output_type": "stream",
          "text": [
            "1.1666666666666667\n",
            "Hey, there!\n"
          ],
          "name": "stdout"
        }
      ]
    },
    {
      "cell_type": "code",
      "metadata": {
        "colab": {
          "base_uri": "https://localhost:8080/"
        },
        "id": "7jMEuNioELXL",
        "outputId": "c7da3a18-f249-4161-c1ac-4732a6263108"
      },
      "source": [
        "a=5\n",
        "b=8\n",
        "\n",
        "try:\n",
        "  print('Resource open')\n",
        "  print(a/b)\n",
        "  k=int(input('Enter value for k'))\n",
        "  print(k)\n",
        "\n",
        "except ZeroDivisionError as e:\n",
        "  print('You cannot divide a no. by zero')\n",
        "\n",
        "except ValueError as e:\n",
        "  print('Invalid input')\n",
        "\n",
        "except Exception as e:\n",
        "  print('Something went wrong')\n",
        "\n",
        "finally:\n",
        "  print('resource closed')\n",
        "\n"
      ],
      "execution_count": null,
      "outputs": [
        {
          "output_type": "stream",
          "text": [
            "Resource open\n",
            "0.625\n",
            "Enter value for k89\n",
            "89\n",
            "resource closed\n"
          ],
          "name": "stdout"
        }
      ]
    }
  ]
}