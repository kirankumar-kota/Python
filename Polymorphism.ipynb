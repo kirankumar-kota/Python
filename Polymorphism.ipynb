{
  "nbformat": 4,
  "nbformat_minor": 0,
  "metadata": {
    "colab": {
      "provenance": []
    },
    "kernelspec": {
      "name": "python3",
      "display_name": "Python 3"
    }
  },
  "cells": [
    {
      "cell_type": "markdown",
      "metadata": {
        "id": "view-in-github"
      },
      "source": [
        "<a href=\"https://colab.research.google.com/github/charlie-aashutosh/python_codes/blob/master/Polymorphism.ipynb\" target=\"_parent\"><img src=\"https://colab.research.google.com/assets/colab-badge.svg\" alt=\"Open In Colab\"/></a>"
      ]
    },
    {
      "cell_type": "code",
      "metadata": {
        "id": "6kt350CD5VaA"
      },
      "source": [
        "#Duck Typing\n",
        "#Operator Overloading\n",
        "#Method Overloading\n",
        "#Method Overriding"
      ],
      "execution_count": null,
      "outputs": []
    },
    {
      "cell_type": "code",
      "metadata": {
        "colab": {
          "base_uri": "https://localhost:8080/"
        },
        "id": "guMfUZKB7gT-",
        "outputId": "6a0df53a-d0a4-4d9a-d868-b8a5b6ea85f0"
      },
      "source": [
        "#Duck Typing\n",
        "class Pycharm:\n",
        "\n",
        "  def execute(self):\n",
        "    print('Compiling')\n",
        "    print('Running')\n",
        "\n",
        "class Laptop:\n",
        "\n",
        "  def code(self,idle):\n",
        "    idle.execute() #Polymorphed\n",
        "\n",
        "idle=Pycharm()\n",
        "\n",
        "lap1=Laptop()\n",
        "lap1.code(idle)\n",
        "\n"
      ],
      "execution_count": null,
      "outputs": [
        {
          "output_type": "stream",
          "text": [
            "Compiling\n",
            "Running\n"
          ],
          "name": "stdout"
        }
      ]
    },
    {
      "cell_type": "code",
      "metadata": {
        "colab": {
          "base_uri": "https://localhost:8080/",
          "height": 238
        },
        "id": "yFOE8pBO-1mK",
        "outputId": "bf6b3b8e-af9e-4349-a99c-4b3ed88b6a70"
      },
      "source": [
        "class Bird:\n",
        "  def fly(self):\n",
        "    print('Fly with wings')\n",
        "\n",
        "class aeroplane:\n",
        "  def fly(self):\n",
        "    print('fly with fuel')\n",
        "\n",
        "class dog:\n",
        "  def run(self):\n",
        "    print('runs with legs')\n",
        "\n",
        "#attributes having same name are considered as duck typing\n",
        "\n",
        "for obj in Bird(), aeroplane(), dog():\n",
        "  obj.fly()"
      ],
      "execution_count": null,
      "outputs": [
        {
          "output_type": "stream",
          "text": [
            "Fly with wings\n",
            "fly with fuel\n"
          ],
          "name": "stdout"
        },
        {
          "output_type": "error",
          "ename": "AttributeError",
          "evalue": "ignored",
          "traceback": [
            "\u001b[0;31m---------------------------------------------------------------------------\u001b[0m",
            "\u001b[0;31mAttributeError\u001b[0m                            Traceback (most recent call last)",
            "\u001b[0;32m<ipython-input-5-86ecfd7846a2>\u001b[0m in \u001b[0;36m<module>\u001b[0;34m()\u001b[0m\n\u001b[1;32m     12\u001b[0m \u001b[0;34m\u001b[0m\u001b[0m\n\u001b[1;32m     13\u001b[0m \u001b[0;32mfor\u001b[0m \u001b[0mobj\u001b[0m \u001b[0;32min\u001b[0m \u001b[0mBird\u001b[0m\u001b[0;34m(\u001b[0m\u001b[0;34m)\u001b[0m\u001b[0;34m,\u001b[0m \u001b[0maeroplane\u001b[0m\u001b[0;34m(\u001b[0m\u001b[0;34m)\u001b[0m\u001b[0;34m,\u001b[0m \u001b[0mdog\u001b[0m\u001b[0;34m(\u001b[0m\u001b[0;34m)\u001b[0m\u001b[0;34m:\u001b[0m\u001b[0;34m\u001b[0m\u001b[0;34m\u001b[0m\u001b[0m\n\u001b[0;32m---> 14\u001b[0;31m   \u001b[0mobj\u001b[0m\u001b[0;34m.\u001b[0m\u001b[0mfly\u001b[0m\u001b[0;34m(\u001b[0m\u001b[0;34m)\u001b[0m\u001b[0;34m\u001b[0m\u001b[0;34m\u001b[0m\u001b[0m\n\u001b[0m",
            "\u001b[0;31mAttributeError\u001b[0m: 'dog' object has no attribute 'fly'"
          ]
        }
      ]
    },
    {
      "cell_type": "code",
      "metadata": {
        "colab": {
          "base_uri": "https://localhost:8080/",
          "height": 202
        },
        "id": "cxwA_1UE_7Sa",
        "outputId": "25651879-409b-4358-c514-b7b329bc0e4f"
      },
      "source": [
        "#Operator overloading\n",
        "\n",
        "a=5 #int type\n",
        "b='World' #str type\n",
        "\n",
        "print(a+b) #same datatype should be there"
      ],
      "execution_count": null,
      "outputs": [
        {
          "output_type": "error",
          "ename": "TypeError",
          "evalue": "ignored",
          "traceback": [
            "\u001b[0;31m---------------------------------------------------------------------------\u001b[0m",
            "\u001b[0;31mTypeError\u001b[0m                                 Traceback (most recent call last)",
            "\u001b[0;32m<ipython-input-15-c41494d9884e>\u001b[0m in \u001b[0;36m<module>\u001b[0;34m()\u001b[0m\n\u001b[1;32m      4\u001b[0m \u001b[0mb\u001b[0m\u001b[0;34m=\u001b[0m\u001b[0;34m'World'\u001b[0m \u001b[0;31m#str type\u001b[0m\u001b[0;34m\u001b[0m\u001b[0;34m\u001b[0m\u001b[0m\n\u001b[1;32m      5\u001b[0m \u001b[0;34m\u001b[0m\u001b[0m\n\u001b[0;32m----> 6\u001b[0;31m \u001b[0mprint\u001b[0m\u001b[0;34m(\u001b[0m\u001b[0ma\u001b[0m\u001b[0;34m+\u001b[0m\u001b[0mb\u001b[0m\u001b[0;34m)\u001b[0m \u001b[0;31m#same datatype should be there\u001b[0m\u001b[0;34m\u001b[0m\u001b[0;34m\u001b[0m\u001b[0m\n\u001b[0m",
            "\u001b[0;31mTypeError\u001b[0m: unsupported operand type(s) for +: 'int' and 'str'"
          ]
        }
      ]
    },
    {
      "cell_type": "code",
      "metadata": {
        "id": "wV-CrK4wCewl"
      },
      "source": [
        "a='12'\n",
        "b='Sunday'\n"
      ],
      "execution_count": null,
      "outputs": []
    },
    {
      "cell_type": "code",
      "metadata": {
        "colab": {
          "base_uri": "https://localhost:8080/"
        },
        "id": "lM0bKz1YBMY4",
        "outputId": "d08d1b47-dae8-47ab-b07b-5efb6062224d"
      },
      "source": [
        "print(str.__add__(a,b))"
      ],
      "execution_count": null,
      "outputs": [
        {
          "output_type": "stream",
          "text": [
            "12Sunday\n"
          ],
          "name": "stdout"
        }
      ]
    },
    {
      "cell_type": "markdown",
      "metadata": {
        "id": "eS52-JcoBvmB"
      },
      "source": [
        "Magic Method:\n",
        "__add__()\n",
        "__sub__()\n",
        "and so on..."
      ]
    },
    {
      "cell_type": "code",
      "metadata": {
        "colab": {
          "base_uri": "https://localhost:8080/"
        },
        "id": "_1HVbP4_BkEc",
        "outputId": "ca85ed77-04b6-4386-86b3-fd86762f7d70"
      },
      "source": [
        "c=12\n",
        "d=15\n",
        "\n",
        "print(int.__add__(c,d))"
      ],
      "execution_count": null,
      "outputs": [
        {
          "output_type": "stream",
          "text": [
            "27\n"
          ],
          "name": "stdout"
        }
      ]
    },
    {
      "cell_type": "code",
      "metadata": {
        "id": "UkGwt2vdCPs0"
      },
      "source": [
        "#Operation overloading"
      ],
      "execution_count": null,
      "outputs": []
    },
    {
      "cell_type": "code",
      "metadata": {
        "id": "dz04Sc_fDBp1"
      },
      "source": [
        "class Square:\n",
        "  side=4\n",
        "\n",
        "  def cal_area_sq(self):\n",
        "    return self.side*self.side\n",
        "\n",
        "class Triangle:\n",
        "  base=5\n",
        "  height=4\n",
        "\n",
        "  def cal_area_tri(self):\n",
        "    return 0.5*self.base*self.height\n",
        "\n",
        "sq=Square()\n",
        "tri=Triangle()"
      ],
      "execution_count": null,
      "outputs": []
    },
    {
      "cell_type": "code",
      "metadata": {
        "colab": {
          "base_uri": "https://localhost:8080/"
        },
        "id": "lfEYu-GqDuDx",
        "outputId": "2102da24-867e-44e7-cc81-089b9ceddc2c"
      },
      "source": [
        "print('area of square ', sq.cal_area_sq())\n",
        "print('area of triangle ', tri.cal_area_tri())"
      ],
      "execution_count": null,
      "outputs": [
        {
          "output_type": "stream",
          "text": [
            "area of square  16\n",
            "area of triangle  10.0\n"
          ],
          "name": "stdout"
        }
      ]
    },
    {
      "cell_type": "code",
      "metadata": {
        "id": "NFZJtGlGD4YV"
      },
      "source": [
        "class Square:\n",
        "  side=4\n",
        "\n",
        "  def cal_area(self):\n",
        "    return self.side*self.side\n",
        "\n",
        "class Triangle:\n",
        "  base=5\n",
        "  height=4\n",
        "\n",
        "  def cal_area(self):\n",
        "    return 0.5*self.base*self.height\n",
        "\n",
        "sq=Square()\n",
        "tri=Triangle()"
      ],
      "execution_count": null,
      "outputs": []
    },
    {
      "cell_type": "code",
      "metadata": {
        "colab": {
          "base_uri": "https://localhost:8080/"
        },
        "id": "6c6-2DdeEaGo",
        "outputId": "aff52bdc-3dcb-4685-c3e4-b82d949193b6"
      },
      "source": [
        "print('area of square ', sq.cal_area())\n",
        "print('area of triangle ', tri.cal_area())"
      ],
      "execution_count": null,
      "outputs": [
        {
          "output_type": "stream",
          "text": [
            "area of square  16\n",
            "area of triangle  10.0\n"
          ],
          "name": "stdout"
        }
      ]
    },
    {
      "cell_type": "code",
      "metadata": {
        "id": "yo0KoeSAEe8B"
      },
      "source": [
        "sq=Square()\n",
        "tri=Triangle()\n",
        "\n",
        "for obj in sq, tri:\n",
        "  obj.cal_area()"
      ],
      "execution_count": null,
      "outputs": []
    },
    {
      "cell_type": "code",
      "metadata": {
        "colab": {
          "base_uri": "https://localhost:8080/"
        },
        "id": "LvNdGdphFmGG",
        "outputId": "e5215d86-decc-4fd5-8e40-15ec04b94713"
      },
      "source": [
        "print(obj.cal_area())"
      ],
      "execution_count": null,
      "outputs": [
        {
          "output_type": "stream",
          "text": [
            "10.0\n"
          ],
          "name": "stdout"
        }
      ]
    },
    {
      "cell_type": "code",
      "metadata": {
        "colab": {
          "base_uri": "https://localhost:8080/"
        },
        "id": "63WcBI_mGLPu",
        "outputId": "78acd775-93a1-4c2c-f252-c7e59566465a"
      },
      "source": [
        "#Inheritance and Polymorphism\n",
        "\n",
        "class Animal:\n",
        "  def type(self):\n",
        "    print('Various types of animals')\n",
        "\n",
        "  def age(self):\n",
        "    print('age of animal')\n",
        "\n",
        "class Cat(Animal):\n",
        "  def age(self):\n",
        "    print('age of cat')\n",
        "\n",
        "class Dog(Animal):\n",
        "  def age(self):\n",
        "    print('age of dog')\n",
        "\n",
        "obj_animal=Animal()\n",
        "\n",
        "obj_cat=Cat()\n",
        "\n",
        "obj_dog=Dog()\n",
        "\n",
        "\n",
        "\n",
        "obj_animal.type()\n",
        "\n",
        "obj_animal.age()\n",
        "\n",
        "obj_cat.type()\n",
        "obj_cat.age()\n",
        "\n",
        "obj_dog.type()\n",
        "obj_dog.age()\n",
        "\n",
        "\n",
        "\n",
        "\n"
      ],
      "execution_count": null,
      "outputs": [
        {
          "output_type": "stream",
          "text": [
            "Various types of animals\n",
            "age of animal\n",
            "Various types of animals\n",
            "age of cat\n",
            "Various types of animals\n",
            "age of dog\n"
          ],
          "name": "stdout"
        }
      ]
    },
    {
      "cell_type": "code",
      "metadata": {
        "id": "Uej88NpQJkbq"
      },
      "source": [
        "\n"
      ],
      "execution_count": null,
      "outputs": []
    }
  ]
}