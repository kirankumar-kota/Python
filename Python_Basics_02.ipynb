{
  "nbformat": 4,
  "nbformat_minor": 0,
  "metadata": {
    "colab": {
      "provenance": []
    },
    "kernelspec": {
      "name": "python3",
      "display_name": "Python 3"
    }
  },
  "cells": [
    {
      "cell_type": "markdown",
      "metadata": {
        "id": "view-in-github"
      },
      "source": [
        "<a href=\"https://colab.research.google.com/github/charlie-aashutosh/python_codes/blob/master/Python_Basics.ipynb\" target=\"_parent\"><img src=\"https://colab.research.google.com/assets/colab-badge.svg\" alt=\"Open In Colab\"/></a>"
      ]
    },
    {
      "cell_type": "code",
      "metadata": {
        "id": "jO3mbpVAkfkc"
      },
      "source": [
        "##BOOLEAN AND LOGICAL OPERATORS\n",
        "#const objects either False or True"
      ],
      "execution_count": 1,
      "outputs": []
    },
    {
      "cell_type": "code",
      "metadata": {
        "id": "b1AwyKQokuer",
        "colab": {
          "base_uri": "https://localhost:8080/"
        },
        "outputId": "bb682e65-89d8-4688-e414-b4ff0fa9f4a5"
      },
      "source": [
        "bool()"
      ],
      "execution_count": 2,
      "outputs": [
        {
          "output_type": "execute_result",
          "data": {
            "text/plain": [
              "False"
            ]
          },
          "metadata": {},
          "execution_count": 2
        }
      ]
    },
    {
      "cell_type": "code",
      "metadata": {
        "id": "Bbz9QZLlk8Bl",
        "colab": {
          "base_uri": "https://localhost:8080/"
        },
        "outputId": "1d3b4c9e-3898-4c33-aeb0-afca73637c9a"
      },
      "source": [
        "True\n",
        "type(True)"
      ],
      "execution_count": 3,
      "outputs": [
        {
          "output_type": "execute_result",
          "data": {
            "text/plain": [
              "bool"
            ]
          },
          "metadata": {},
          "execution_count": 3
        }
      ]
    },
    {
      "cell_type": "code",
      "metadata": {
        "id": "AkrNWFuclAaX"
      },
      "source": [
        "my_str='Kiran'"
      ],
      "execution_count": 11,
      "outputs": []
    },
    {
      "cell_type": "code",
      "metadata": {
        "id": "9KRuXJ4wlM5x",
        "colab": {
          "base_uri": "https://localhost:8080/"
        },
        "outputId": "b15f804a-7f9b-4fd3-c441-d242d8378f57"
      },
      "source": [
        "print(my_str.isalnum())#checks if all char are nums\n",
        "print(my_str.isalpha())#check if all char are alphabets\n",
        "print(my_str.isdigit())#check if str has digits\n",
        "print(my_str.istitle())#check if str has word in capital word\n",
        "print(my_str.isupper())#check if str has upper case\n",
        "print(my_str.islower())#check if str has lower case\n",
        "print(my_str.isspace())#checks if str has spaces\n",
        "print(my_str.endswith('n'))#tests if str ends with h\n",
        "print(my_str.startswith('K'))#test if str starts with A\n",
        "#the above two opertions are case sensitive in nature\n",
        "print(my_str.startswith('k'))\n"
      ],
      "execution_count": 16,
      "outputs": [
        {
          "output_type": "stream",
          "name": "stdout",
          "text": [
            "True\n",
            "True\n",
            "False\n",
            "True\n",
            "False\n",
            "False\n",
            "False\n",
            "True\n",
            "True\n",
            "False\n"
          ]
        }
      ]
    },
    {
      "cell_type": "code",
      "metadata": {
        "id": "7oAAxd9jm_EW",
        "colab": {
          "base_uri": "https://localhost:8080/"
        },
        "outputId": "1202f423-976c-4aca-c368-29b9b58397d4"
      },
      "source": [
        "True and True"
      ],
      "execution_count": 17,
      "outputs": [
        {
          "output_type": "execute_result",
          "data": {
            "text/plain": [
              "True"
            ]
          },
          "metadata": {},
          "execution_count": 17
        }
      ]
    },
    {
      "cell_type": "code",
      "metadata": {
        "id": "tYRQgFiOnNM_",
        "colab": {
          "base_uri": "https://localhost:8080/"
        },
        "outputId": "69507ba4-3983-4167-ac59-c2fcd1480579"
      },
      "source": [
        "True and False"
      ],
      "execution_count": 18,
      "outputs": [
        {
          "output_type": "execute_result",
          "data": {
            "text/plain": [
              "False"
            ]
          },
          "metadata": {},
          "execution_count": 18
        }
      ]
    },
    {
      "cell_type": "code",
      "metadata": {
        "id": "kcE7JRounPJr",
        "colab": {
          "base_uri": "https://localhost:8080/"
        },
        "outputId": "f72d9231-0fd7-4175-e249-2245ad633688"
      },
      "source": [
        "True and False"
      ],
      "execution_count": 19,
      "outputs": [
        {
          "output_type": "execute_result",
          "data": {
            "text/plain": [
              "False"
            ]
          },
          "metadata": {},
          "execution_count": 19
        }
      ]
    },
    {
      "cell_type": "code",
      "metadata": {
        "id": "2tiwCoe8nQ6v",
        "colab": {
          "base_uri": "https://localhost:8080/"
        },
        "outputId": "bcbf6afc-d344-40ed-a755-b2c1ca25abfb"
      },
      "source": [
        "True or False"
      ],
      "execution_count": 22,
      "outputs": [
        {
          "output_type": "execute_result",
          "data": {
            "text/plain": [
              "True"
            ]
          },
          "metadata": {},
          "execution_count": 22
        }
      ]
    },
    {
      "cell_type": "code",
      "metadata": {
        "id": "1d5ijsYhnVGg",
        "colab": {
          "base_uri": "https://localhost:8080/"
        },
        "outputId": "086ad940-d2f1-4a9a-d5b0-fb01de293368"
      },
      "source": [
        "True or True"
      ],
      "execution_count": 23,
      "outputs": [
        {
          "output_type": "execute_result",
          "data": {
            "text/plain": [
              "True"
            ]
          },
          "metadata": {},
          "execution_count": 23
        }
      ]
    },
    {
      "cell_type": "code",
      "metadata": {
        "id": "hl08Dmw7nXYh"
      },
      "source": [
        "str_ex=\"hello world\"\n",
        "my_str='Kiran'"
      ],
      "execution_count": 28,
      "outputs": []
    },
    {
      "cell_type": "code",
      "metadata": {
        "id": "z3Hg1dqMngtN",
        "colab": {
          "base_uri": "https://localhost:8080/"
        },
        "outputId": "6687316a-4d86-4656-ca3c-343240c2c9cb"
      },
      "source": [
        "my_str.isalpha() or str_ex.isnum()"
      ],
      "execution_count": 29,
      "outputs": [
        {
          "output_type": "execute_result",
          "data": {
            "text/plain": [
              "True"
            ]
          },
          "metadata": {},
          "execution_count": 29
        }
      ]
    },
    {
      "cell_type": "code",
      "metadata": {
        "id": "KdZcRMehnn5n"
      },
      "source": [
        "##LISTS - data structure in python which is mutable or changable- ordered sequence of elements. each value inside list is called item- we define this by using sq. brackets []"
      ],
      "execution_count": null,
      "outputs": []
    },
    {
      "cell_type": "code",
      "metadata": {
        "id": "rU-21XjqoBDi"
      },
      "source": [
        "lst_ex=[]"
      ],
      "execution_count": 31,
      "outputs": []
    },
    {
      "cell_type": "code",
      "metadata": {
        "id": "PgFWTcV-oEgK",
        "colab": {
          "base_uri": "https://localhost:8080/"
        },
        "outputId": "5cafca08-9c76-4005-88af-511c4946db0d"
      },
      "source": [
        "type(lst_ex)"
      ],
      "execution_count": 32,
      "outputs": [
        {
          "output_type": "execute_result",
          "data": {
            "text/plain": [
              "list"
            ]
          },
          "metadata": {},
          "execution_count": 32
        }
      ]
    },
    {
      "cell_type": "code",
      "metadata": {
        "id": "64ReX02ioGf1"
      },
      "source": [
        "lst=list()#using inbuilt function"
      ],
      "execution_count": 33,
      "outputs": []
    },
    {
      "cell_type": "code",
      "metadata": {
        "id": "_e9srLfNoLEg",
        "colab": {
          "base_uri": "https://localhost:8080/"
        },
        "outputId": "8b59a46d-016d-440e-e07e-a030120b7653"
      },
      "source": [
        "type(lst)"
      ],
      "execution_count": 34,
      "outputs": [
        {
          "output_type": "execute_result",
          "data": {
            "text/plain": [
              "list"
            ]
          },
          "metadata": {},
          "execution_count": 34
        }
      ]
    },
    {
      "cell_type": "code",
      "metadata": {
        "id": "jAEncfWfoM3V"
      },
      "source": [
        "lst=['machine learning','deep learning','data science', 60, 40, 100]"
      ],
      "execution_count": 35,
      "outputs": []
    },
    {
      "cell_type": "code",
      "metadata": {
        "id": "5RG9CC_gos4l",
        "colab": {
          "base_uri": "https://localhost:8080/"
        },
        "outputId": "afd22f80-62dd-4fd0-9b22-726056740367"
      },
      "source": [
        "len(lst)"
      ],
      "execution_count": 36,
      "outputs": [
        {
          "output_type": "execute_result",
          "data": {
            "text/plain": [
              "6"
            ]
          },
          "metadata": {},
          "execution_count": 36
        }
      ]
    },
    {
      "cell_type": "code",
      "metadata": {
        "id": "LWqqHqlfonC-"
      },
      "source": [
        "lst.append(\"Kiran\")#more items added to end of list"
      ],
      "execution_count": 37,
      "outputs": []
    },
    {
      "cell_type": "code",
      "metadata": {
        "id": "kOkIXWQfo0uV",
        "colab": {
          "base_uri": "https://localhost:8080/"
        },
        "outputId": "ddcb4091-74c3-4e2e-9299-e0fda8e97685"
      },
      "source": [
        "print(lst)"
      ],
      "execution_count": 38,
      "outputs": [
        {
          "output_type": "stream",
          "name": "stdout",
          "text": [
            "['machine learning', 'deep learning', 'data science', 60, 40, 100, 'Kiran']\n"
          ]
        }
      ]
    },
    {
      "cell_type": "code",
      "metadata": {
        "id": "1NpQwsyuprRP"
      },
      "source": [
        "lst.append(['artificial intelligence', 'statistics'])#nested list"
      ],
      "execution_count": 39,
      "outputs": []
    },
    {
      "cell_type": "code",
      "metadata": {
        "id": "zOC2R96Bp0s0",
        "colab": {
          "base_uri": "https://localhost:8080/"
        },
        "outputId": "87eb9aeb-192d-45b9-90bc-ac10b446216a"
      },
      "source": [
        "print(lst)"
      ],
      "execution_count": 40,
      "outputs": [
        {
          "output_type": "stream",
          "name": "stdout",
          "text": [
            "['machine learning', 'deep learning', 'data science', 60, 40, 100, 'Kiran', ['artificial intelligence', 'statistics']]\n"
          ]
        }
      ]
    },
    {
      "cell_type": "code",
      "metadata": {
        "id": "IFe_uxrRo_IX",
        "colab": {
          "base_uri": "https://localhost:8080/"
        },
        "outputId": "19121b65-a022-405c-f90f-3dee0b337f51"
      },
      "source": [
        "##indexing-index value of item written in [] and the value is obtained\n",
        "lst[3]"
      ],
      "execution_count": 41,
      "outputs": [
        {
          "output_type": "execute_result",
          "data": {
            "text/plain": [
              "60"
            ]
          },
          "metadata": {},
          "execution_count": 41
        }
      ]
    },
    {
      "cell_type": "code",
      "metadata": {
        "id": "pE-0IFYkpMi2",
        "colab": {
          "base_uri": "https://localhost:8080/"
        },
        "outputId": "8b573032-451a-4656-803b-bca40412a6dc"
      },
      "source": [
        "lst[:]"
      ],
      "execution_count": 42,
      "outputs": [
        {
          "output_type": "execute_result",
          "data": {
            "text/plain": [
              "['machine learning',\n",
              " 'deep learning',\n",
              " 'data science',\n",
              " 60,\n",
              " 40,\n",
              " 100,\n",
              " 'Kiran',\n",
              " ['artificial intelligence', 'statistics']]"
            ]
          },
          "metadata": {},
          "execution_count": 42
        }
      ]
    },
    {
      "cell_type": "code",
      "metadata": {
        "id": "i5rr_rfgpUkg",
        "colab": {
          "base_uri": "https://localhost:8080/"
        },
        "outputId": "83eaa98f-85f0-4d6f-97b5-37add80f4143"
      },
      "source": [
        "lst[:4]"
      ],
      "execution_count": 43,
      "outputs": [
        {
          "output_type": "execute_result",
          "data": {
            "text/plain": [
              "['machine learning', 'deep learning', 'data science', 60]"
            ]
          },
          "metadata": {},
          "execution_count": 43
        }
      ]
    },
    {
      "cell_type": "code",
      "metadata": {
        "id": "J9rPhtHYpUWQ",
        "colab": {
          "base_uri": "https://localhost:8080/"
        },
        "outputId": "6fa6d48e-0f95-42d9-e3a2-83e5dfa03c33"
      },
      "source": [
        "lst[2:]"
      ],
      "execution_count": 44,
      "outputs": [
        {
          "output_type": "execute_result",
          "data": {
            "text/plain": [
              "['data science',\n",
              " 60,\n",
              " 40,\n",
              " 100,\n",
              " 'Kiran',\n",
              " ['artificial intelligence', 'statistics']]"
            ]
          },
          "metadata": {},
          "execution_count": 44
        }
      ]
    },
    {
      "cell_type": "code",
      "metadata": {
        "id": "t8D98n91pUL3"
      },
      "source": [
        "lst.insert(2,'algorithms')"
      ],
      "execution_count": 45,
      "outputs": []
    },
    {
      "cell_type": "code",
      "metadata": {
        "id": "rX0MgCJ0o2U9",
        "colab": {
          "base_uri": "https://localhost:8080/"
        },
        "outputId": "225bb9b8-a493-4189-9934-479ffc8e0311"
      },
      "source": [
        "print(lst)"
      ],
      "execution_count": 46,
      "outputs": [
        {
          "output_type": "stream",
          "name": "stdout",
          "text": [
            "['machine learning', 'deep learning', 'algorithms', 'data science', 60, 40, 100, 'Kiran', ['artificial intelligence', 'statistics']]\n"
          ]
        }
      ]
    },
    {
      "cell_type": "code",
      "metadata": {
        "id": "5A3Dz4gIqFgp"
      },
      "source": [
        "n_list=[1,2,3,4,5,6]"
      ],
      "execution_count": 47,
      "outputs": []
    },
    {
      "cell_type": "code",
      "metadata": {
        "id": "x7oUEib-qP0L"
      },
      "source": [
        "n_list.extend([8,9])"
      ],
      "execution_count": 48,
      "outputs": []
    },
    {
      "cell_type": "code",
      "metadata": {
        "id": "q1Xgx6OMqT01",
        "colab": {
          "base_uri": "https://localhost:8080/"
        },
        "outputId": "a0b2bf7b-e850-4016-86aa-f416a235ef5a"
      },
      "source": [
        "print(n_list)#we dont get a nested list- items get added normally"
      ],
      "execution_count": 49,
      "outputs": [
        {
          "output_type": "stream",
          "name": "stdout",
          "text": [
            "[1, 2, 3, 4, 5, 6, 8, 9]\n"
          ]
        }
      ]
    },
    {
      "cell_type": "code",
      "metadata": {
        "id": "blHl7Y8lqWLz",
        "colab": {
          "base_uri": "https://localhost:8080/"
        },
        "outputId": "f32c18a7-7989-4e69-c22d-90dc1e0ec061"
      },
      "source": [
        "n_list"
      ],
      "execution_count": 50,
      "outputs": [
        {
          "output_type": "execute_result",
          "data": {
            "text/plain": [
              "[1, 2, 3, 4, 5, 6, 8, 9]"
            ]
          },
          "metadata": {},
          "execution_count": 50
        }
      ]
    },
    {
      "cell_type": "code",
      "metadata": {
        "id": "3ZEvKF16qet3",
        "colab": {
          "base_uri": "https://localhost:8080/"
        },
        "outputId": "b0af6458-4da7-4caf-dd7f-2b1cb6bf5559"
      },
      "source": [
        "sum(n_list)"
      ],
      "execution_count": 51,
      "outputs": [
        {
          "output_type": "execute_result",
          "data": {
            "text/plain": [
              "38"
            ]
          },
          "metadata": {},
          "execution_count": 51
        }
      ]
    },
    {
      "cell_type": "code",
      "metadata": {
        "id": "760jtEC3qhFI",
        "colab": {
          "base_uri": "https://localhost:8080/"
        },
        "outputId": "e489af4b-6909-416b-bab4-c6f820039c41"
      },
      "source": [
        "lst.pop()#removes the last element or last list"
      ],
      "execution_count": 52,
      "outputs": [
        {
          "output_type": "execute_result",
          "data": {
            "text/plain": [
              "['artificial intelligence', 'statistics']"
            ]
          },
          "metadata": {},
          "execution_count": 52
        }
      ]
    },
    {
      "cell_type": "code",
      "metadata": {
        "id": "j92Ga16kqj4p",
        "colab": {
          "base_uri": "https://localhost:8080/",
          "height": 36
        },
        "outputId": "56b9e023-99a4-42f1-b4a8-7f161123fd08"
      },
      "source": [
        "lst.pop(0)#0th index value removed"
      ],
      "execution_count": 53,
      "outputs": [
        {
          "output_type": "execute_result",
          "data": {
            "text/plain": [
              "'machine learning'"
            ],
            "application/vnd.google.colaboratory.intrinsic+json": {
              "type": "string"
            }
          },
          "metadata": {},
          "execution_count": 53
        }
      ]
    },
    {
      "cell_type": "code",
      "metadata": {
        "id": "E32UQQC7qsJm",
        "colab": {
          "base_uri": "https://localhost:8080/"
        },
        "outputId": "59327e42-7f13-4049-f76e-23f4f0349237"
      },
      "source": [
        "lst.count(60)#count the number of times our particular item is available in list"
      ],
      "execution_count": 54,
      "outputs": [
        {
          "output_type": "execute_result",
          "data": {
            "text/plain": [
              "1"
            ]
          },
          "metadata": {},
          "execution_count": 54
        }
      ]
    },
    {
      "cell_type": "code",
      "metadata": {
        "id": "hMsXjQx_q3ks",
        "colab": {
          "base_uri": "https://localhost:8080/"
        },
        "outputId": "14dba09e-c1a0-4b24-d4e1-66c58fafcd74"
      },
      "source": [
        "min(n_list)"
      ],
      "execution_count": 55,
      "outputs": [
        {
          "output_type": "execute_result",
          "data": {
            "text/plain": [
              "1"
            ]
          },
          "metadata": {},
          "execution_count": 55
        }
      ]
    },
    {
      "cell_type": "code",
      "metadata": {
        "id": "bdH_Lm_drGlL",
        "colab": {
          "base_uri": "https://localhost:8080/"
        },
        "outputId": "21b71cce-e5ff-462f-af7d-60ac409256a6"
      },
      "source": [
        "max(n_list)"
      ],
      "execution_count": 56,
      "outputs": [
        {
          "output_type": "execute_result",
          "data": {
            "text/plain": [
              "9"
            ]
          },
          "metadata": {},
          "execution_count": 56
        }
      ]
    },
    {
      "cell_type": "code",
      "metadata": {
        "id": "3ZVGAVTfrSvj",
        "colab": {
          "base_uri": "https://localhost:8080/"
        },
        "outputId": "9341dd82-c340-4309-b203-54be3b7335e3"
      },
      "source": [
        "n_list*2#the whole list will get repeated twice"
      ],
      "execution_count": 57,
      "outputs": [
        {
          "output_type": "execute_result",
          "data": {
            "text/plain": [
              "[1, 2, 3, 4, 5, 6, 8, 9, 1, 2, 3, 4, 5, 6, 8, 9]"
            ]
          },
          "metadata": {},
          "execution_count": 57
        }
      ]
    },
    {
      "cell_type": "code",
      "metadata": {
        "id": "Tituronzrbtb",
        "colab": {
          "base_uri": "https://localhost:8080/"
        },
        "outputId": "df26cc0e-a58d-43de-ca06-17e6826abde6"
      },
      "source": [
        "n_list*5"
      ],
      "execution_count": 58,
      "outputs": [
        {
          "output_type": "execute_result",
          "data": {
            "text/plain": [
              "[1,\n",
              " 2,\n",
              " 3,\n",
              " 4,\n",
              " 5,\n",
              " 6,\n",
              " 8,\n",
              " 9,\n",
              " 1,\n",
              " 2,\n",
              " 3,\n",
              " 4,\n",
              " 5,\n",
              " 6,\n",
              " 8,\n",
              " 9,\n",
              " 1,\n",
              " 2,\n",
              " 3,\n",
              " 4,\n",
              " 5,\n",
              " 6,\n",
              " 8,\n",
              " 9,\n",
              " 1,\n",
              " 2,\n",
              " 3,\n",
              " 4,\n",
              " 5,\n",
              " 6,\n",
              " 8,\n",
              " 9,\n",
              " 1,\n",
              " 2,\n",
              " 3,\n",
              " 4,\n",
              " 5,\n",
              " 6,\n",
              " 8,\n",
              " 9]"
            ]
          },
          "metadata": {},
          "execution_count": 58
        }
      ]
    },
    {
      "cell_type": "code",
      "metadata": {
        "id": "VHYY21otrebz"
      },
      "source": [
        "##SETS, DICTIONARIES, TUPLES"
      ],
      "execution_count": 59,
      "outputs": []
    },
    {
      "cell_type": "code",
      "metadata": {
        "id": "DYUeDM85rmY4"
      },
      "source": [
        "#sets are unordered collection of data type which are iterable, mutable and no duplicate values. Pyhton. setclass represents the mathematical notion of a set. This is based on data structure known as hast table"
      ],
      "execution_count": 60,
      "outputs": []
    },
    {
      "cell_type": "code",
      "metadata": {
        "id": "17EejWLjs1f-"
      },
      "source": [
        "set_var=set()#inbuilt funtion"
      ],
      "execution_count": 61,
      "outputs": []
    },
    {
      "cell_type": "code",
      "metadata": {
        "id": "Sr3AZshts5XV",
        "colab": {
          "base_uri": "https://localhost:8080/"
        },
        "outputId": "ed8a83a3-4387-49e6-d021-d94ee6cb7c13"
      },
      "source": [
        "print(set_var)"
      ],
      "execution_count": 62,
      "outputs": [
        {
          "output_type": "stream",
          "name": "stdout",
          "text": [
            "set()\n"
          ]
        }
      ]
    },
    {
      "cell_type": "code",
      "metadata": {
        "id": "5q68ldi_s8ke"
      },
      "source": [
        "set_var={1,2,3,4,2,4}#we use curly brackets for sets"
      ],
      "execution_count": 63,
      "outputs": []
    },
    {
      "cell_type": "code",
      "metadata": {
        "id": "hSzejVdxtM9M",
        "colab": {
          "base_uri": "https://localhost:8080/"
        },
        "outputId": "f2cde489-3558-4e63-e437-68b7b582c22c"
      },
      "source": [
        "set_var #does not support duplicates"
      ],
      "execution_count": 64,
      "outputs": [
        {
          "output_type": "execute_result",
          "data": {
            "text/plain": [
              "{1, 2, 3, 4}"
            ]
          },
          "metadata": {},
          "execution_count": 64
        }
      ]
    },
    {
      "cell_type": "code",
      "metadata": {
        "id": "0t0rqzJqtOZ_"
      },
      "source": [
        "set_var.add('hero')#adds at the last"
      ],
      "execution_count": 65,
      "outputs": []
    },
    {
      "cell_type": "code",
      "metadata": {
        "id": "_NeAnP8Steut"
      },
      "source": [
        "#sets do not support indexing"
      ],
      "execution_count": 66,
      "outputs": []
    },
    {
      "cell_type": "code",
      "metadata": {
        "id": "9Fx9sXA7tcCU",
        "colab": {
          "base_uri": "https://localhost:8080/"
        },
        "outputId": "50f9d242-3de0-4f5a-d1ae-4dfb28d99cce"
      },
      "source": [
        "set_var"
      ],
      "execution_count": 67,
      "outputs": [
        {
          "output_type": "execute_result",
          "data": {
            "text/plain": [
              "{1, 2, 3, 4, 'hero'}"
            ]
          },
          "metadata": {},
          "execution_count": 67
        }
      ]
    },
    {
      "cell_type": "code",
      "metadata": {
        "id": "QKHufKqBtdMR"
      },
      "source": [
        "set1={'hulk','ironman','superman','wolverine'}\n",
        "set2={'wonderwomen','natasha','black widow','jean grey','wolverine','superman'}"
      ],
      "execution_count": 68,
      "outputs": []
    },
    {
      "cell_type": "code",
      "metadata": {
        "id": "DJpWVPXSuHx-"
      },
      "source": [
        "#difference- all common elements gets removed"
      ],
      "execution_count": 69,
      "outputs": []
    },
    {
      "cell_type": "code",
      "metadata": {
        "id": "-65qolTBuRyZ",
        "colab": {
          "base_uri": "https://localhost:8080/"
        },
        "outputId": "fedb3f42-3634-4ef9-8ecb-cbb4fee36b8f"
      },
      "source": [
        "set2.difference(set1)"
      ],
      "execution_count": 70,
      "outputs": [
        {
          "output_type": "execute_result",
          "data": {
            "text/plain": [
              "{'black widow', 'jean grey', 'natasha', 'wonderwomen'}"
            ]
          },
          "metadata": {},
          "execution_count": 70
        }
      ]
    },
    {
      "cell_type": "code",
      "metadata": {
        "id": "2LLEE74ZuaSS"
      },
      "source": [
        "set2.difference_update(set1)#makes the changes permanent in set2"
      ],
      "execution_count": 71,
      "outputs": []
    },
    {
      "cell_type": "code",
      "metadata": {
        "id": "ErUoh1Kluh--",
        "colab": {
          "base_uri": "https://localhost:8080/"
        },
        "outputId": "cf7c43a5-b9c7-4c9e-a7ef-e5cc799ed824"
      },
      "source": [
        "set2"
      ],
      "execution_count": 72,
      "outputs": [
        {
          "output_type": "execute_result",
          "data": {
            "text/plain": [
              "{'black widow', 'jean grey', 'natasha', 'wonderwomen'}"
            ]
          },
          "metadata": {},
          "execution_count": 72
        }
      ]
    },
    {
      "cell_type": "code",
      "metadata": {
        "id": "K6NgNbeSun8v"
      },
      "source": [
        "#intersectio - only common elements are shown\n",
        "set2.intersection_update(set1)"
      ],
      "execution_count": 73,
      "outputs": []
    },
    {
      "cell_type": "code",
      "metadata": {
        "id": "Syvzq0ZRuxVk",
        "colab": {
          "base_uri": "https://localhost:8080/"
        },
        "outputId": "ccd4c664-8b30-45d6-8837-a21cee257296"
      },
      "source": [
        "set2"
      ],
      "execution_count": 74,
      "outputs": [
        {
          "output_type": "execute_result",
          "data": {
            "text/plain": [
              "set()"
            ]
          },
          "metadata": {},
          "execution_count": 74
        }
      ]
    },
    {
      "cell_type": "code",
      "metadata": {
        "id": "SBubikhVuyOg"
      },
      "source": [
        "##DICTIONARIES - we use {} : key value pair, in case of sets - we just provided the values"
      ],
      "execution_count": 75,
      "outputs": []
    },
    {
      "cell_type": "code",
      "metadata": {
        "id": "4UlZyQiJu-Pn"
      },
      "source": [
        "dic={}"
      ],
      "execution_count": 76,
      "outputs": []
    },
    {
      "cell_type": "code",
      "metadata": {
        "id": "uWGp1QuRu_ty",
        "colab": {
          "base_uri": "https://localhost:8080/"
        },
        "outputId": "b613ecca-f619-4270-9277-d470d221090d"
      },
      "source": [
        "type(dic)"
      ],
      "execution_count": 77,
      "outputs": [
        {
          "output_type": "execute_result",
          "data": {
            "text/plain": [
              "dict"
            ]
          },
          "metadata": {},
          "execution_count": 77
        }
      ]
    },
    {
      "cell_type": "code",
      "metadata": {
        "id": "epvRfGtzvG6F"
      },
      "source": [
        "dict={\"car1\":\"toyota\",\"car2\":\"maruti suzuki\",\"car3\":\"bmw\",\"car4\":\"mercedes benz\"}"
      ],
      "execution_count": 78,
      "outputs": []
    },
    {
      "cell_type": "code",
      "metadata": {
        "id": "m8adiY0rvhSY",
        "colab": {
          "base_uri": "https://localhost:8080/",
          "height": 36
        },
        "outputId": "7f4f86ec-e76e-475b-9bef-2b7f7f443717"
      },
      "source": [
        "#access values from dictionary - thus we can access the values but not through index values but actually by using the corresponding key values\n",
        "dict['car1']"
      ],
      "execution_count": 79,
      "outputs": [
        {
          "output_type": "execute_result",
          "data": {
            "text/plain": [
              "'toyota'"
            ],
            "application/vnd.google.colaboratory.intrinsic+json": {
              "type": "string"
            }
          },
          "metadata": {},
          "execution_count": 79
        }
      ]
    },
    {
      "cell_type": "code",
      "metadata": {
        "id": "KkV8MxervtSC",
        "colab": {
          "base_uri": "https://localhost:8080/"
        },
        "outputId": "c304f97f-93bd-4c5b-e4f4-ff6b580721b2"
      },
      "source": [
        "for x in dict: #key values obtained\n",
        "  print(x)"
      ],
      "execution_count": 80,
      "outputs": [
        {
          "output_type": "stream",
          "name": "stdout",
          "text": [
            "car1\n",
            "car2\n",
            "car3\n",
            "car4\n"
          ]
        }
      ]
    },
    {
      "cell_type": "code",
      "metadata": {
        "id": "i0G3CNLQv8hJ",
        "colab": {
          "base_uri": "https://localhost:8080/"
        },
        "outputId": "9b3a4d60-0cc0-4e43-ecca-8520e2f901f9"
      },
      "source": [
        "for x in dict.values(): # values retrived\n",
        "  print(x)"
      ],
      "execution_count": 81,
      "outputs": [
        {
          "output_type": "stream",
          "name": "stdout",
          "text": [
            "toyota\n",
            "maruti suzuki\n",
            "bmw\n",
            "mercedes benz\n"
          ]
        }
      ]
    },
    {
      "cell_type": "code",
      "metadata": {
        "id": "PBmXoFmRwGdC",
        "colab": {
          "base_uri": "https://localhost:8080/"
        },
        "outputId": "a5fe5ec7-60a2-43be-be96-1fa6e41040e2"
      },
      "source": [
        "for x in dict.items():\n",
        "  print(x)"
      ],
      "execution_count": 82,
      "outputs": [
        {
          "output_type": "stream",
          "name": "stdout",
          "text": [
            "('car1', 'toyota')\n",
            "('car2', 'maruti suzuki')\n",
            "('car3', 'bmw')\n",
            "('car4', 'mercedes benz')\n"
          ]
        }
      ]
    },
    {
      "cell_type": "code",
      "metadata": {
        "id": "T0Du2c_DwMbd"
      },
      "source": [
        "dict['car4']='hundai'  #replace car4 value"
      ],
      "execution_count": 83,
      "outputs": []
    },
    {
      "cell_type": "code",
      "metadata": {
        "id": "d4ojRA4YwcBr",
        "colab": {
          "base_uri": "https://localhost:8080/"
        },
        "outputId": "aa328338-cabf-4137-b0b2-6c7fe4068cb2"
      },
      "source": [
        "dict"
      ],
      "execution_count": 84,
      "outputs": [
        {
          "output_type": "execute_result",
          "data": {
            "text/plain": [
              "{'car1': 'toyota', 'car2': 'maruti suzuki', 'car3': 'bmw', 'car4': 'hundai'}"
            ]
          },
          "metadata": {},
          "execution_count": 84
        }
      ]
    },
    {
      "cell_type": "code",
      "metadata": {
        "id": "eIY1Bv-OwdJ0"
      },
      "source": [
        "dict['car1']='ambassador' #key vaue will be replaced"
      ],
      "execution_count": 85,
      "outputs": []
    },
    {
      "cell_type": "code",
      "metadata": {
        "id": "oaYxk4oYwoEM",
        "colab": {
          "base_uri": "https://localhost:8080/"
        },
        "outputId": "7fcdd52a-4618-4631-811f-2a788f811cb2"
      },
      "source": [
        "dict"
      ],
      "execution_count": 86,
      "outputs": [
        {
          "output_type": "execute_result",
          "data": {
            "text/plain": [
              "{'car1': 'ambassador',\n",
              " 'car2': 'maruti suzuki',\n",
              " 'car3': 'bmw',\n",
              " 'car4': 'hundai'}"
            ]
          },
          "metadata": {},
          "execution_count": 86
        }
      ]
    },
    {
      "cell_type": "code",
      "metadata": {
        "id": "30Emarcbwoz0"
      },
      "source": [
        "dict['car5']=\"mahindra\" #new key value pair added"
      ],
      "execution_count": 87,
      "outputs": []
    },
    {
      "cell_type": "code",
      "metadata": {
        "id": "qciJCoChw3HY",
        "colab": {
          "base_uri": "https://localhost:8080/"
        },
        "outputId": "8da4106a-d916-408a-cd98-b61b58ac554e"
      },
      "source": [
        "dict"
      ],
      "execution_count": 88,
      "outputs": [
        {
          "output_type": "execute_result",
          "data": {
            "text/plain": [
              "{'car1': 'ambassador',\n",
              " 'car2': 'maruti suzuki',\n",
              " 'car3': 'bmw',\n",
              " 'car4': 'hundai',\n",
              " 'car5': 'mahindra'}"
            ]
          },
          "metadata": {},
          "execution_count": 88
        }
      ]
    },
    {
      "cell_type": "code",
      "metadata": {
        "id": "E1zeSqm9w5gz"
      },
      "source": [
        "#nested dictionaries"
      ],
      "execution_count": 89,
      "outputs": []
    },
    {
      "cell_type": "code",
      "metadata": {
        "id": "uYHtumVOxHNM"
      },
      "source": [
        "car1_model={'mercedes':1990}\n",
        "car2_model={'audi':2010}\n",
        "car3_model={'ferrari':2012}"
      ],
      "execution_count": 90,
      "outputs": []
    },
    {
      "cell_type": "code",
      "metadata": {
        "id": "X0gwZLenxQ_K"
      },
      "source": [
        "car_type={'car1':car1_model, 'car2':car2_model, 'car3':car3_model}"
      ],
      "execution_count": 91,
      "outputs": []
    },
    {
      "cell_type": "code",
      "metadata": {
        "id": "l9eDN__LxQ-B",
        "colab": {
          "base_uri": "https://localhost:8080/"
        },
        "outputId": "bf8b7ab9-31da-4eb2-dfd5-d9b140cf05d4"
      },
      "source": [
        "car_type"
      ],
      "execution_count": 92,
      "outputs": [
        {
          "output_type": "execute_result",
          "data": {
            "text/plain": [
              "{'car1': {'mercedes': 1990}, 'car2': {'audi': 2010}, 'car3': {'ferrari': 2012}}"
            ]
          },
          "metadata": {},
          "execution_count": 92
        }
      ]
    },
    {
      "cell_type": "code",
      "metadata": {
        "id": "MS7EZJG1xT5y",
        "colab": {
          "base_uri": "https://localhost:8080/"
        },
        "outputId": "eeff35af-81dc-4d0b-c695-1011dea2e558"
      },
      "source": [
        "print(car_type['car2'])"
      ],
      "execution_count": 93,
      "outputs": [
        {
          "output_type": "stream",
          "name": "stdout",
          "text": [
            "{'audi': 2010}\n"
          ]
        }
      ]
    },
    {
      "cell_type": "code",
      "metadata": {
        "id": "k1Jp0xtZxT4r",
        "colab": {
          "base_uri": "https://localhost:8080/"
        },
        "outputId": "199c9cc9-c5f7-4240-e01b-9ee9b1bbeb75"
      },
      "source": [
        "print(car_type['car1']['mercedes'])"
      ],
      "execution_count": 94,
      "outputs": [
        {
          "output_type": "stream",
          "name": "stdout",
          "text": [
            "1990\n"
          ]
        }
      ]
    },
    {
      "cell_type": "code",
      "metadata": {
        "id": "M82TQocL1Ms-"
      },
      "source": [
        "##TUPLES - not mutable"
      ],
      "execution_count": 95,
      "outputs": []
    },
    {
      "cell_type": "code",
      "metadata": {
        "id": "7m-1W5Bi1Pvl"
      },
      "source": [
        "my_tuple=tuple()"
      ],
      "execution_count": 96,
      "outputs": []
    },
    {
      "cell_type": "code",
      "metadata": {
        "id": "_LfO4abt1ak5",
        "colab": {
          "base_uri": "https://localhost:8080/"
        },
        "outputId": "563c5d61-d50c-48c1-cee4-405156399931"
      },
      "source": [
        "type(my_tuple)"
      ],
      "execution_count": 97,
      "outputs": [
        {
          "output_type": "execute_result",
          "data": {
            "text/plain": [
              "tuple"
            ]
          },
          "metadata": {},
          "execution_count": 97
        }
      ]
    },
    {
      "cell_type": "code",
      "metadata": {
        "id": "hbpKu1H11aj1"
      },
      "source": [
        "my_tuple=(\"Kiran\",\"kumar\",\"Kota\")"
      ],
      "execution_count": 99,
      "outputs": []
    },
    {
      "cell_type": "code",
      "metadata": {
        "id": "Od9TYWoQ1aVE",
        "colab": {
          "base_uri": "https://localhost:8080/",
          "height": 36
        },
        "outputId": "ae8463c9-f4e1-4f9d-8b24-fb14eab55619"
      },
      "source": [
        "my_tuple[0]"
      ],
      "execution_count": 100,
      "outputs": [
        {
          "output_type": "execute_result",
          "data": {
            "text/plain": [
              "'Kiran'"
            ],
            "application/vnd.google.colaboratory.intrinsic+json": {
              "type": "string"
            }
          },
          "metadata": {},
          "execution_count": 100
        }
      ]
    },
    {
      "cell_type": "code",
      "metadata": {
        "id": "ORmZSzp_FXOt",
        "colab": {
          "base_uri": "https://localhost:8080/",
          "height": 36
        },
        "outputId": "7cc0cd8f-5461-40ec-9c37-197d37837f74"
      },
      "source": [
        "my_tuple[2]"
      ],
      "execution_count": 101,
      "outputs": [
        {
          "output_type": "execute_result",
          "data": {
            "text/plain": [
              "'Kota'"
            ],
            "application/vnd.google.colaboratory.intrinsic+json": {
              "type": "string"
            }
          },
          "metadata": {},
          "execution_count": 101
        }
      ]
    },
    {
      "cell_type": "code",
      "metadata": {
        "id": "l5G2Scxn1aT8",
        "colab": {
          "base_uri": "https://localhost:8080/",
          "height": 175
        },
        "outputId": "ed2c3c42-0963-43d9-d3fb-1aa4a6d26fec"
      },
      "source": [
        "my_tuple[0]=\"charie\"#items are not replacable - item assignment not possible"
      ],
      "execution_count": 102,
      "outputs": [
        {
          "output_type": "error",
          "ename": "TypeError",
          "evalue": "ignored",
          "traceback": [
            "\u001b[0;31m---------------------------------------------------------------------------\u001b[0m",
            "\u001b[0;31mTypeError\u001b[0m                                 Traceback (most recent call last)",
            "\u001b[0;32m<ipython-input-102-e395af111fde>\u001b[0m in \u001b[0;36m<cell line: 1>\u001b[0;34m()\u001b[0m\n\u001b[0;32m----> 1\u001b[0;31m \u001b[0mmy_tuple\u001b[0m\u001b[0;34m[\u001b[0m\u001b[0;36m0\u001b[0m\u001b[0;34m]\u001b[0m\u001b[0;34m=\u001b[0m\u001b[0;34m\"charie\"\u001b[0m\u001b[0;31m#items are not replacable - item assignment not possible\u001b[0m\u001b[0;34m\u001b[0m\u001b[0;34m\u001b[0m\u001b[0m\n\u001b[0m",
            "\u001b[0;31mTypeError\u001b[0m: 'tuple' object does not support item assignment"
          ]
        }
      ]
    },
    {
      "cell_type": "code",
      "metadata": {
        "id": "lZeLViur1aDQ"
      },
      "source": [
        "##NUMPY - used for creating multi diemention array, has bindings of c++ so operations takes place very fast"
      ],
      "execution_count": 103,
      "outputs": []
    },
    {
      "cell_type": "code",
      "metadata": {
        "id": "Pto5Je5c1Z_J"
      },
      "source": [
        "#arrays are data structures that stores values of same data type - this is the main difference between list and array since lists can contain different data types are well"
      ],
      "execution_count": 104,
      "outputs": []
    },
    {
      "cell_type": "code",
      "metadata": {
        "id": "v-33dHfm1Z90"
      },
      "source": [
        "import numpy as np"
      ],
      "execution_count": 105,
      "outputs": []
    },
    {
      "cell_type": "code",
      "metadata": {
        "id": "J_aQ1LE62_gY"
      },
      "source": [
        "my_list=[1,2,3,56,74,89]"
      ],
      "execution_count": 106,
      "outputs": []
    },
    {
      "cell_type": "code",
      "metadata": {
        "id": "hR8cMUvw3IdF"
      },
      "source": [
        "arr=np.array(my_list)"
      ],
      "execution_count": 107,
      "outputs": []
    },
    {
      "cell_type": "code",
      "metadata": {
        "id": "MIZp5ef73Rl7",
        "colab": {
          "base_uri": "https://localhost:8080/"
        },
        "outputId": "2197291a-1c2f-4119-ebe6-54cc14da7033"
      },
      "source": [
        "type(arr)"
      ],
      "execution_count": 108,
      "outputs": [
        {
          "output_type": "execute_result",
          "data": {
            "text/plain": [
              "numpy.ndarray"
            ]
          },
          "metadata": {},
          "execution_count": 108
        }
      ]
    },
    {
      "cell_type": "code",
      "metadata": {
        "id": "-kBDtBX83T5Z",
        "colab": {
          "base_uri": "https://localhost:8080/"
        },
        "outputId": "de795b94-494b-4b6f-f40a-5daa7966c8e8"
      },
      "source": [
        "arr.shape#since it is 1D array"
      ],
      "execution_count": 109,
      "outputs": [
        {
          "output_type": "execute_result",
          "data": {
            "text/plain": [
              "(6,)"
            ]
          },
          "metadata": {},
          "execution_count": 109
        }
      ]
    },
    {
      "cell_type": "code",
      "metadata": {
        "id": "Bp_fRObz3s_X"
      },
      "source": [
        "list1=[1,2,4,56,6]\n",
        "list2=[3,5,6,7,8]\n",
        "list3=[7,14,32,71,1]"
      ],
      "execution_count": 110,
      "outputs": []
    },
    {
      "cell_type": "code",
      "metadata": {
        "id": "c7EGHmwJ3s-E"
      },
      "source": [
        "arr=np.array([list1,list2,list3])"
      ],
      "execution_count": 111,
      "outputs": []
    },
    {
      "cell_type": "code",
      "metadata": {
        "id": "hkw7QKL24BUv",
        "colab": {
          "base_uri": "https://localhost:8080/"
        },
        "outputId": "ac07c8b9-b22a-43cb-dc50-feb0759380c8"
      },
      "source": [
        "arr"
      ],
      "execution_count": 112,
      "outputs": [
        {
          "output_type": "execute_result",
          "data": {
            "text/plain": [
              "array([[ 1,  2,  4, 56,  6],\n",
              "       [ 3,  5,  6,  7,  8],\n",
              "       [ 7, 14, 32, 71,  1]])"
            ]
          },
          "metadata": {},
          "execution_count": 112
        }
      ]
    },
    {
      "cell_type": "code",
      "metadata": {
        "id": "TjZcsH9sGoGE",
        "colab": {
          "base_uri": "https://localhost:8080/"
        },
        "outputId": "da9ebdb5-7edd-4f6d-b19a-c9eb4a4718f6"
      },
      "source": [
        "arr[:,:]"
      ],
      "execution_count": 113,
      "outputs": [
        {
          "output_type": "execute_result",
          "data": {
            "text/plain": [
              "array([[ 1,  2,  4, 56,  6],\n",
              "       [ 3,  5,  6,  7,  8],\n",
              "       [ 7, 14, 32, 71,  1]])"
            ]
          },
          "metadata": {},
          "execution_count": 113
        }
      ]
    },
    {
      "cell_type": "code",
      "metadata": {
        "id": "QoM6iAklH2gd",
        "colab": {
          "base_uri": "https://localhost:8080/"
        },
        "outputId": "049e832e-b339-4098-c5b0-e70e592a1c98"
      },
      "source": [
        "arr[:,3:]"
      ],
      "execution_count": 114,
      "outputs": [
        {
          "output_type": "execute_result",
          "data": {
            "text/plain": [
              "array([[56,  6],\n",
              "       [ 7,  8],\n",
              "       [71,  1]])"
            ]
          },
          "metadata": {},
          "execution_count": 114
        }
      ]
    },
    {
      "cell_type": "code",
      "metadata": {
        "id": "Jtdub2gwIb1z",
        "colab": {
          "base_uri": "https://localhost:8080/"
        },
        "outputId": "d861a803-0cf1-4b41-8880-90825dc6c4ec"
      },
      "source": [
        "arr[0:2,:]"
      ],
      "execution_count": 115,
      "outputs": [
        {
          "output_type": "execute_result",
          "data": {
            "text/plain": [
              "array([[ 1,  2,  4, 56,  6],\n",
              "       [ 3,  5,  6,  7,  8]])"
            ]
          },
          "metadata": {},
          "execution_count": 115
        }
      ]
    },
    {
      "cell_type": "code",
      "metadata": {
        "id": "JLnkip6mIbvd",
        "colab": {
          "base_uri": "https://localhost:8080/"
        },
        "outputId": "d8bcd186-f2af-423f-e7ee-bebda8fee494"
      },
      "source": [
        "arr[0:2,0:2]"
      ],
      "execution_count": 116,
      "outputs": [
        {
          "output_type": "execute_result",
          "data": {
            "text/plain": [
              "array([[1, 2],\n",
              "       [3, 5]])"
            ]
          },
          "metadata": {},
          "execution_count": 116
        }
      ]
    },
    {
      "cell_type": "code",
      "metadata": {
        "id": "olJEDZggH2Vf"
      },
      "source": [
        "arr1=np.arange(0,10)#all values from 0 to 9 will be displayed"
      ],
      "execution_count": 117,
      "outputs": []
    },
    {
      "cell_type": "code",
      "metadata": {
        "id": "4uOkMtlZH18g",
        "colab": {
          "base_uri": "https://localhost:8080/"
        },
        "outputId": "aefbe424-72cc-41ef-a62a-10222e5cf0d8"
      },
      "source": [
        "arr1"
      ],
      "execution_count": 118,
      "outputs": [
        {
          "output_type": "execute_result",
          "data": {
            "text/plain": [
              "array([0, 1, 2, 3, 4, 5, 6, 7, 8, 9])"
            ]
          },
          "metadata": {},
          "execution_count": 118
        }
      ]
    },
    {
      "cell_type": "code",
      "metadata": {
        "id": "bEJE_Hkd3Yck",
        "colab": {
          "base_uri": "https://localhost:8080/"
        },
        "outputId": "53b36b39-f11d-42ca-e1a2-76c4e57fed2b"
      },
      "source": [
        "arr1.shape"
      ],
      "execution_count": 119,
      "outputs": [
        {
          "output_type": "execute_result",
          "data": {
            "text/plain": [
              "(10,)"
            ]
          },
          "metadata": {},
          "execution_count": 119
        }
      ]
    },
    {
      "cell_type": "code",
      "metadata": {
        "id": "DJRz13YIKBSj"
      },
      "source": [
        "arr1=np.arange(0,10,step=2)#array displayed with jumps of 2 places"
      ],
      "execution_count": 120,
      "outputs": []
    },
    {
      "cell_type": "code",
      "metadata": {
        "id": "neUj7Ao5KA4T",
        "colab": {
          "base_uri": "https://localhost:8080/"
        },
        "outputId": "daaf00a1-acb8-4f87-e279-69b8ae7436ea"
      },
      "source": [
        "arr1"
      ],
      "execution_count": 121,
      "outputs": [
        {
          "output_type": "execute_result",
          "data": {
            "text/plain": [
              "array([0, 2, 4, 6, 8])"
            ]
          },
          "metadata": {},
          "execution_count": 121
        }
      ]
    },
    {
      "cell_type": "code",
      "metadata": {
        "id": "YlqUjnOGKA25",
        "colab": {
          "base_uri": "https://localhost:8080/"
        },
        "outputId": "b593d3dd-ec97-416c-86f0-07f5ae98624c"
      },
      "source": [
        "np.linspace(1,10,50)#how many pts. we want - equally spaced pts. we just need to give the 1st and last pts."
      ],
      "execution_count": 122,
      "outputs": [
        {
          "output_type": "execute_result",
          "data": {
            "text/plain": [
              "array([ 1.        ,  1.18367347,  1.36734694,  1.55102041,  1.73469388,\n",
              "        1.91836735,  2.10204082,  2.28571429,  2.46938776,  2.65306122,\n",
              "        2.83673469,  3.02040816,  3.20408163,  3.3877551 ,  3.57142857,\n",
              "        3.75510204,  3.93877551,  4.12244898,  4.30612245,  4.48979592,\n",
              "        4.67346939,  4.85714286,  5.04081633,  5.2244898 ,  5.40816327,\n",
              "        5.59183673,  5.7755102 ,  5.95918367,  6.14285714,  6.32653061,\n",
              "        6.51020408,  6.69387755,  6.87755102,  7.06122449,  7.24489796,\n",
              "        7.42857143,  7.6122449 ,  7.79591837,  7.97959184,  8.16326531,\n",
              "        8.34693878,  8.53061224,  8.71428571,  8.89795918,  9.08163265,\n",
              "        9.26530612,  9.44897959,  9.63265306,  9.81632653, 10.        ])"
            ]
          },
          "metadata": {},
          "execution_count": 122
        }
      ]
    },
    {
      "cell_type": "code",
      "metadata": {
        "id": "Ad5DNAq5KsmZ"
      },
      "source": [
        "arr1[3:]=100 #this is called the copy funtion or the broadcasting function-after the given index, the next values will be changed to the value given i.e after 3rd index,values will be replaced by 100"
      ],
      "execution_count": 123,
      "outputs": []
    },
    {
      "cell_type": "code",
      "metadata": {
        "id": "gBsumezMKslE",
        "colab": {
          "base_uri": "https://localhost:8080/"
        },
        "outputId": "c43edbd8-5c6b-467e-a148-1f523bcfd75c"
      },
      "source": [
        "arr1"
      ],
      "execution_count": 124,
      "outputs": [
        {
          "output_type": "execute_result",
          "data": {
            "text/plain": [
              "array([  0,   2,   4, 100, 100])"
            ]
          },
          "metadata": {},
          "execution_count": 124
        }
      ]
    },
    {
      "cell_type": "code",
      "metadata": {
        "id": "cMTY1yE24HhD",
        "colab": {
          "base_uri": "https://localhost:8080/"
        },
        "outputId": "fd416076-2147-473c-bf8e-11a98db8acca"
      },
      "source": [
        "arr.reshape(5,3)"
      ],
      "execution_count": 125,
      "outputs": [
        {
          "output_type": "execute_result",
          "data": {
            "text/plain": [
              "array([[ 1,  2,  4],\n",
              "       [56,  6,  3],\n",
              "       [ 5,  6,  7],\n",
              "       [ 8,  7, 14],\n",
              "       [32, 71,  1]])"
            ]
          },
          "metadata": {},
          "execution_count": 125
        }
      ]
    },
    {
      "cell_type": "code",
      "metadata": {
        "id": "bCT0LQ5v4MX6",
        "colab": {
          "base_uri": "https://localhost:8080/"
        },
        "outputId": "abe38364-e5d6-404f-9de2-57eb3e0f4847"
      },
      "source": [
        "arr.reshape(1,15)#this is still a 2D array since we have two []"
      ],
      "execution_count": 126,
      "outputs": [
        {
          "output_type": "execute_result",
          "data": {
            "text/plain": [
              "array([[ 1,  2,  4, 56,  6,  3,  5,  6,  7,  8,  7, 14, 32, 71,  1]])"
            ]
          },
          "metadata": {},
          "execution_count": 126
        }
      ]
    },
    {
      "cell_type": "code",
      "metadata": {
        "id": "0g_b0bzW4RVY"
      },
      "source": [
        "#indexing\n",
        "arr=np.array([1,2,3,4,5,6,7,8,9,11,12,34,56])"
      ],
      "execution_count": 127,
      "outputs": []
    },
    {
      "cell_type": "code",
      "metadata": {
        "id": "GvjEmxE6448P",
        "colab": {
          "base_uri": "https://localhost:8080/"
        },
        "outputId": "36dc1528-3f23-4ad1-b5a0-2b177878f18a"
      },
      "source": [
        "arr[3]"
      ],
      "execution_count": 128,
      "outputs": [
        {
          "output_type": "execute_result",
          "data": {
            "text/plain": [
              "4"
            ]
          },
          "metadata": {},
          "execution_count": 128
        }
      ]
    },
    {
      "cell_type": "code",
      "metadata": {
        "id": "y_mNl_tN46oJ",
        "colab": {
          "base_uri": "https://localhost:8080/"
        },
        "outputId": "2fd75824-d59d-4cde-bd50-88837f329cc2"
      },
      "source": [
        "arr[:]"
      ],
      "execution_count": 129,
      "outputs": [
        {
          "output_type": "execute_result",
          "data": {
            "text/plain": [
              "array([ 1,  2,  3,  4,  5,  6,  7,  8,  9, 11, 12, 34, 56])"
            ]
          },
          "metadata": {},
          "execution_count": 129
        }
      ]
    },
    {
      "cell_type": "code",
      "metadata": {
        "id": "EZDPEyx86Ywt",
        "colab": {
          "base_uri": "https://localhost:8080/"
        },
        "outputId": "16163fa8-62bf-416b-b4a8-0a42038be147"
      },
      "source": [
        "arr[:4]"
      ],
      "execution_count": 130,
      "outputs": [
        {
          "output_type": "execute_result",
          "data": {
            "text/plain": [
              "array([1, 2, 3, 4])"
            ]
          },
          "metadata": {},
          "execution_count": 130
        }
      ]
    },
    {
      "cell_type": "code",
      "metadata": {
        "id": "dyzrgOBn6bzR",
        "colab": {
          "base_uri": "https://localhost:8080/"
        },
        "outputId": "13d5d904-15f0-4ac7-cd36-e84872d6d147"
      },
      "source": [
        "arr[2:]"
      ],
      "execution_count": 131,
      "outputs": [
        {
          "output_type": "execute_result",
          "data": {
            "text/plain": [
              "array([ 3,  4,  5,  6,  7,  8,  9, 11, 12, 34, 56])"
            ]
          },
          "metadata": {},
          "execution_count": 131
        }
      ]
    },
    {
      "cell_type": "code",
      "metadata": {
        "id": "J5a-g4AD6eOs",
        "colab": {
          "base_uri": "https://localhost:8080/"
        },
        "outputId": "43a27644-8b64-4ed1-ee96-dd4f09b617af"
      },
      "source": [
        "arr[3:7]"
      ],
      "execution_count": 132,
      "outputs": [
        {
          "output_type": "execute_result",
          "data": {
            "text/plain": [
              "array([4, 5, 6, 7])"
            ]
          },
          "metadata": {},
          "execution_count": 132
        }
      ]
    },
    {
      "cell_type": "code",
      "metadata": {
        "id": "MtSY3VAa6h8n"
      },
      "source": [
        "arr1=arr"
      ],
      "execution_count": 133,
      "outputs": []
    },
    {
      "cell_type": "code",
      "metadata": {
        "id": "RJnJqI9fL2RA"
      },
      "source": [
        "arr1[3:]=500"
      ],
      "execution_count": 134,
      "outputs": []
    },
    {
      "cell_type": "code",
      "metadata": {
        "id": "spQlrh-ZL6io",
        "colab": {
          "base_uri": "https://localhost:8080/"
        },
        "outputId": "76e2123f-9fd6-47a6-bc72-70c577f0dead"
      },
      "source": [
        "arr1"
      ],
      "execution_count": 135,
      "outputs": [
        {
          "output_type": "execute_result",
          "data": {
            "text/plain": [
              "array([  1,   2,   3, 500, 500, 500, 500, 500, 500, 500, 500, 500, 500])"
            ]
          },
          "metadata": {},
          "execution_count": 135
        }
      ]
    },
    {
      "cell_type": "code",
      "metadata": {
        "id": "BNnHIVGaL7Zd"
      },
      "source": [
        "#array is a reference type and not - value type. this means the memory location is shared b/w variables. in order to prevent this- we use arr.copy()"
      ],
      "execution_count": 136,
      "outputs": []
    },
    {
      "cell_type": "code",
      "metadata": {
        "id": "86lXKw9WMjKQ",
        "colab": {
          "base_uri": "https://localhost:8080/"
        },
        "outputId": "3077ff03-6aa2-4345-cd24-5a30acc26fc1"
      },
      "source": [
        "val=2\n",
        "\n",
        "arr<2"
      ],
      "execution_count": 137,
      "outputs": [
        {
          "output_type": "execute_result",
          "data": {
            "text/plain": [
              "array([ True, False, False, False, False, False, False, False, False,\n",
              "       False, False, False, False])"
            ]
          },
          "metadata": {},
          "execution_count": 137
        }
      ]
    },
    {
      "cell_type": "code",
      "metadata": {
        "id": "o4QOVLeZMiyE",
        "colab": {
          "base_uri": "https://localhost:8080/"
        },
        "outputId": "bbc3b2f0-a23d-490f-bb1d-d50f1b043fd3"
      },
      "source": [
        "arr*2"
      ],
      "execution_count": 138,
      "outputs": [
        {
          "output_type": "execute_result",
          "data": {
            "text/plain": [
              "array([   2,    4,    6, 1000, 1000, 1000, 1000, 1000, 1000, 1000, 1000,\n",
              "       1000, 1000])"
            ]
          },
          "metadata": {},
          "execution_count": 138
        }
      ]
    },
    {
      "cell_type": "code",
      "metadata": {
        "id": "vC2OlENWMiwt",
        "colab": {
          "base_uri": "https://localhost:8080/"
        },
        "outputId": "22f6206d-d593-4cf3-f2e4-8f74c9fa4970"
      },
      "source": [
        "arr/2"
      ],
      "execution_count": 139,
      "outputs": [
        {
          "output_type": "execute_result",
          "data": {
            "text/plain": [
              "array([  0.5,   1. ,   1.5, 250. , 250. , 250. , 250. , 250. , 250. ,\n",
              "       250. , 250. , 250. , 250. ])"
            ]
          },
          "metadata": {},
          "execution_count": 139
        }
      ]
    },
    {
      "cell_type": "code",
      "metadata": {
        "id": "VHDMylpwMxDz",
        "colab": {
          "base_uri": "https://localhost:8080/"
        },
        "outputId": "09bed25b-561d-40d8-9a56-996c09559be8"
      },
      "source": [
        "arr%2"
      ],
      "execution_count": 140,
      "outputs": [
        {
          "output_type": "execute_result",
          "data": {
            "text/plain": [
              "array([1, 0, 1, 0, 0, 0, 0, 0, 0, 0, 0, 0, 0])"
            ]
          },
          "metadata": {},
          "execution_count": 140
        }
      ]
    },
    {
      "cell_type": "code",
      "metadata": {
        "id": "tVR2WRR8My_D",
        "colab": {
          "base_uri": "https://localhost:8080/"
        },
        "outputId": "6414bcf6-8a59-43ad-de5d-ecfb9b9ac920"
      },
      "source": [
        "arr[arr<2]#displays the items les than 2"
      ],
      "execution_count": 141,
      "outputs": [
        {
          "output_type": "execute_result",
          "data": {
            "text/plain": [
              "array([1])"
            ]
          },
          "metadata": {},
          "execution_count": 141
        }
      ]
    },
    {
      "cell_type": "code",
      "metadata": {
        "id": "a4sUfN9GM4Lk",
        "colab": {
          "base_uri": "https://localhost:8080/"
        },
        "outputId": "04c0bb9a-fb24-4975-d2dd-94cc67a3a622"
      },
      "source": [
        "arr[arr>3]#displays the items more than 3"
      ],
      "execution_count": 142,
      "outputs": [
        {
          "output_type": "execute_result",
          "data": {
            "text/plain": [
              "array([500, 500, 500, 500, 500, 500, 500, 500, 500, 500])"
            ]
          },
          "metadata": {},
          "execution_count": 142
        }
      ]
    },
    {
      "cell_type": "code",
      "metadata": {
        "id": "vUffl_6yM8td",
        "colab": {
          "base_uri": "https://localhost:8080/"
        },
        "outputId": "0ca154d9-2a02-48de-e910-e8fdccd7480a"
      },
      "source": [
        "np.ones(4)#all values are 1 in our array"
      ],
      "execution_count": 143,
      "outputs": [
        {
          "output_type": "execute_result",
          "data": {
            "text/plain": [
              "array([1., 1., 1., 1.])"
            ]
          },
          "metadata": {},
          "execution_count": 143
        }
      ]
    },
    {
      "cell_type": "code",
      "metadata": {
        "id": "3_oWHHY2NPYQ",
        "colab": {
          "base_uri": "https://localhost:8080/"
        },
        "outputId": "e054fbd5-b95d-441a-b70f-7da1389852f7"
      },
      "source": [
        "np.ones(5,dtype=int)"
      ],
      "execution_count": 144,
      "outputs": [
        {
          "output_type": "execute_result",
          "data": {
            "text/plain": [
              "array([1, 1, 1, 1, 1])"
            ]
          },
          "metadata": {},
          "execution_count": 144
        }
      ]
    },
    {
      "cell_type": "code",
      "metadata": {
        "id": "fvK7rYFeNa9U",
        "colab": {
          "base_uri": "https://localhost:8080/"
        },
        "outputId": "e9c6ab74-7961-472a-8c57-0e01fd421898"
      },
      "source": [
        "np.ones((2,5),dtype=int)#2 rows, 5 columns all having vlue 1"
      ],
      "execution_count": 145,
      "outputs": [
        {
          "output_type": "execute_result",
          "data": {
            "text/plain": [
              "array([[1, 1, 1, 1, 1],\n",
              "       [1, 1, 1, 1, 1]])"
            ]
          },
          "metadata": {},
          "execution_count": 145
        }
      ]
    },
    {
      "cell_type": "code",
      "metadata": {
        "id": "YM48qxlyNjOb",
        "colab": {
          "base_uri": "https://localhost:8080/"
        },
        "outputId": "2f2b876c-dd24-414d-fa3b-7639efc48f87"
      },
      "source": [
        "np.random.rand(3,3)#random values of 3 cross 3 is chosen in b/w 0 to 1 -- uniform distribution"
      ],
      "execution_count": 146,
      "outputs": [
        {
          "output_type": "execute_result",
          "data": {
            "text/plain": [
              "array([[0.87372381, 0.28005085, 0.18739395],\n",
              "       [0.32040653, 0.86066534, 0.94594899],\n",
              "       [0.51965208, 0.93096068, 0.53104116]])"
            ]
          },
          "metadata": {},
          "execution_count": 146
        }
      ]
    },
    {
      "cell_type": "code",
      "metadata": {
        "id": "YQ96g_nAN4NF",
        "colab": {
          "base_uri": "https://localhost:8080/"
        },
        "outputId": "69cc48cf-937a-4fbb-cf16-6e88176fc218"
      },
      "source": [
        "np.random.randn(4,4)#select random variables based on standard normal distribution -- standard deviation is 1 and mean is 0"
      ],
      "execution_count": 147,
      "outputs": [
        {
          "output_type": "execute_result",
          "data": {
            "text/plain": [
              "array([[-1.2006484 , -1.37974201, -1.97038699, -1.14629501],\n",
              "       [-1.83099327,  1.44392442, -0.30645325,  0.5207195 ],\n",
              "       [ 0.50682301, -0.71731094,  0.44121553, -0.06364991],\n",
              "       [-1.75369835,  1.05480616,  0.23986993,  1.2212514 ]])"
            ]
          },
          "metadata": {},
          "execution_count": 147
        }
      ]
    },
    {
      "cell_type": "code",
      "metadata": {
        "id": "7Urat-FdOHEr",
        "colab": {
          "base_uri": "https://localhost:8080/"
        },
        "outputId": "eafe340b-a231-4f73-b3c6-c5fc0e86f4a6"
      },
      "source": [
        "np.random.randint(0,100,8).reshape(4,2)#b/w 0 to 100 select 8 numbers and every time this will change"
      ],
      "execution_count": 148,
      "outputs": [
        {
          "output_type": "execute_result",
          "data": {
            "text/plain": [
              "array([[22, 35],\n",
              "       [17, 38],\n",
              "       [28, 35],\n",
              "       [55, 79]])"
            ]
          },
          "metadata": {},
          "execution_count": 148
        }
      ]
    },
    {
      "cell_type": "code",
      "metadata": {
        "id": "kZL3srshOjKK"
      },
      "source": [
        "import matplotlib.pyplot as plt\n",
        "%matplotlib inline\n",
        "import seaborn as snr\n",
        "import pandas as pd"
      ],
      "execution_count": 149,
      "outputs": []
    },
    {
      "cell_type": "code",
      "metadata": {
        "id": "pANWDU43Oq6n",
        "colab": {
          "base_uri": "https://localhost:8080/",
          "height": 638
        },
        "outputId": "d1dc5754-f924-40e0-b409-f12239dbfa2d"
      },
      "source": [
        "snr.distplot(pd.DataFrame(arr.reshape(13,1))) #bell curve with some skewness obtained"
      ],
      "execution_count": 150,
      "outputs": [
        {
          "output_type": "stream",
          "name": "stderr",
          "text": [
            "<ipython-input-150-ad7fed337234>:1: UserWarning: \n",
            "\n",
            "`distplot` is a deprecated function and will be removed in seaborn v0.14.0.\n",
            "\n",
            "Please adapt your code to use either `displot` (a figure-level function with\n",
            "similar flexibility) or `histplot` (an axes-level function for histograms).\n",
            "\n",
            "For a guide to updating your code to use the new functions, please see\n",
            "https://gist.github.com/mwaskom/de44147ed2974457ad6372750bbe5751\n",
            "\n",
            "  snr.distplot(pd.DataFrame(arr.reshape(13,1))) #bell curve with some skewness obtained\n"
          ]
        },
        {
          "output_type": "execute_result",
          "data": {
            "text/plain": [
              "<Axes: ylabel='Density'>"
            ]
          },
          "metadata": {},
          "execution_count": 150
        },
        {
          "output_type": "display_data",
          "data": {
            "text/plain": [
              "<Figure size 640x480 with 1 Axes>"
            ],
            "image/png": "[encoded data removed]"
          },
          "metadata": {}
        }
      ]
    },
    {
      "cell_type": "code",
      "metadata": {
        "id": "AXr-MpD1Otgn",
        "colab": {
          "base_uri": "https://localhost:8080/",
          "height": 285
        },
        "outputId": "314bbaf6-84de-415d-ba3a-f52ea1cd637a"
      },
      "source": [
        "snr.pairplot(pd.DataFrame(arr.reshape(13,1)))"
      ],
      "execution_count": 151,
      "outputs": [
        {
          "output_type": "execute_result",
          "data": {
            "text/plain": [
              "<seaborn.axisgrid.PairGrid at 0x7fb88880c1f0>"
            ]
          },
          "metadata": {},
          "execution_count": 151
        },
        {
          "output_type": "display_data",
          "data": {
            "text/plain": [
              "<Figure size 250x250 with 2 Axes>"
            ],
            "image/png": "[encoded data removed]"
          },
          "metadata": {}
        }
      ]
    },
    {
      "cell_type": "code",
      "metadata": {
        "id": "VXoIt-COOtfS",
        "colab": {
          "base_uri": "https://localhost:8080/"
        },
        "outputId": "3cb584ae-80d3-4808-8054-c1328977260f"
      },
      "source": [
        "np.random.random_sample((1,5))#in b/w 1 to 5 select float dtype and changes every time"
      ],
      "execution_count": 152,
      "outputs": [
        {
          "output_type": "execute_result",
          "data": {
            "text/plain": [
              "array([[0.75675468, 0.76030955, 0.6243986 , 0.48291604, 0.26739013]])"
            ]
          },
          "metadata": {},
          "execution_count": 152
        }
      ]
    },
    {
      "cell_type": "code",
      "metadata": {
        "id": "RVxJNDUiPjtb"
      },
      "source": [
        "##PANDAS"
      ],
      "execution_count": 153,
      "outputs": []
    },
    {
      "cell_type": "code",
      "metadata": {
        "id": "vWihZSzFPjrn"
      },
      "source": [
        "import pandas as pd\n",
        "import numpy as np"
      ],
      "execution_count": 154,
      "outputs": []
    },
    {
      "cell_type": "code",
      "metadata": {
        "id": "WD9eULQDkq4c"
      },
      "source": [
        "df=pd.DataFrame(np.arange(0,20).reshape(5,4),index=[\"Row1\",\"Row2\",\"Row3\",\"Row4\",\"Row5\"],columns=[\"column1\",\"column2\",\"column3\",\"column4\"])"
      ],
      "execution_count": 155,
      "outputs": []
    },
    {
      "cell_type": "code",
      "metadata": {
        "id": "HoMg315Lm58V"
      },
      "source": [
        "#to convert this dataframe into .csv file, we can use df.to_csv(\"nameoffile.csv\")"
      ],
      "execution_count": 156,
      "outputs": []
    },
    {
      "cell_type": "code",
      "metadata": {
        "id": "tNw9XY5Ck0Lt",
        "colab": {
          "base_uri": "https://localhost:8080/",
          "height": 206
        },
        "outputId": "3474937c-c8c8-473e-9b0e-3775b59c793c"
      },
      "source": [
        "df.head()"
      ],
      "execution_count": 157,
      "outputs": [
        {
          "output_type": "execute_result",
          "data": {
            "text/plain": [
              "      column1  column2  column3  column4\n",
              "Row1        0        1        2        3\n",
              "Row2        4        5        6        7\n",
              "Row3        8        9       10       11\n",
              "Row4       12       13       14       15\n",
              "Row5       16       17       18       19"
            ],
            "text/html": [
              "\n",
              "  <div id=\"df-9ff4efd4-9224-4451-9de9-3122441b2c4c\" class=\"colab-df-container\">\n",
              "    <div>\n",
              "<style scoped>\n",
              "    .dataframe tbody tr th:only-of-type {\n",
              "        vertical-align: middle;\n",
              "    }\n",
              "\n",
              "    .dataframe tbody tr th {\n",
              "        vertical-align: top;\n",
              "    }\n",
              "\n",
              "    .dataframe thead th {\n",
              "        text-align: right;\n",
              "    }\n",
              "</style>\n",
              "<table border=\"1\" class=\"dataframe\">\n",
              "  <thead>\n",
              "    <tr style=\"text-align: right;\">\n",
              "      <th></th>\n",
              "      <th>column1</th>\n",
              "      <th>column2</th>\n",
              "      <th>column3</th>\n",
              "      <th>column4</th>\n",
              "    </tr>\n",
              "  </thead>\n",
              "  <tbody>\n",
              "    <tr>\n",
              "      <th>Row1</th>\n",
              "      <td>0</td>\n",
              "      <td>1</td>\n",
              "      <td>2</td>\n",
              "      <td>3</td>\n",
              "    </tr>\n",
              "    <tr>\n",
              "      <th>Row2</th>\n",
              "      <td>4</td>\n",
              "      <td>5</td>\n",
              "      <td>6</td>\n",
              "      <td>7</td>\n",
              "    </tr>\n",
              "    <tr>\n",
              "      <th>Row3</th>\n",
              "      <td>8</td>\n",
              "      <td>9</td>\n",
              "      <td>10</td>\n",
              "      <td>11</td>\n",
              "    </tr>\n",
              "    <tr>\n",
              "      <th>Row4</th>\n",
              "      <td>12</td>\n",
              "      <td>13</td>\n",
              "      <td>14</td>\n",
              "      <td>15</td>\n",
              "    </tr>\n",
              "    <tr>\n",
              "      <th>Row5</th>\n",
              "      <td>16</td>\n",
              "      <td>17</td>\n",
              "      <td>18</td>\n",
              "      <td>19</td>\n",
              "    </tr>\n",
              "  </tbody>\n",
              "</table>\n",
              "</div>\n",
              "    <div class=\"colab-df-buttons\">\n",
              "\n",
              "  <div class=\"colab-df-container\">\n",
              "    <button class=\"colab-df-convert\" onclick=\"convertToInteractive('df-9ff4efd4-9224-4451-9de9-3122441b2c4c')\"\n",
              "            title=\"Convert this dataframe to an interactive table.\"\n",
              "            style=\"display:none;\">\n",
              "\n",
              "  <svg xmlns=\"http://www.w3.org/2000/svg\" height=\"24px\" viewBox=\"0 -960 960 960\">\n",
              "    <path d=\"M120-120v-720h720v720H120Zm60-500h600v-160H180v160Zm220 220h160v-160H400v160Zm0 220h160v-160H400v160ZM180-400h160v-160H180v160Zm440 0h160v-160H620v160ZM180-180h160v-160H180v160Zm440 0h160v-160H620v160Z\"/>\n",
              "  </svg>\n",
              "    </button>\n",
              "\n",
              "  <style>\n",
              "    .colab-df-container {\n",
              "      display:flex;\n",
              "      gap: 12px;\n",
              "    }\n",
              "\n",
              "    .colab-df-convert {\n",
              "      background-color: #E8F0FE;\n",
              "      border: none;\n",
              "      border-radius: 50%;\n",
              "      cursor: pointer;\n",
              "      display: none;\n",
              "      fill: #1967D2;\n",
              "      height: 32px;\n",
              "      padding: 0 0 0 0;\n",
              "      width: 32px;\n",
              "    }\n",
              "\n",
              "    .colab-df-convert:hover {\n",
              "      background-color: #E2EBFA;\n",
              "      box-shadow: 0px 1px 2px rgba(60, 64, 67, 0.3), 0px 1px 3px 1px rgba(60, 64, 67, 0.15);\n",
              "      fill: #174EA6;\n",
              "    }\n",
              "\n",
              "    .colab-df-buttons div {\n",
              "      margin-bottom: 4px;\n",
              "    }\n",
              "\n",
              "    [theme=dark] .colab-df-convert {\n",
              "      background-color: #3B4455;\n",
              "      fill: #D2E3FC;\n",
              "    }\n",
              "\n",
              "    [theme=dark] .colab-df-convert:hover {\n",
              "      background-color: #434B5C;\n",
              "      box-shadow: 0px 1px 3px 1px rgba(0, 0, 0, 0.15);\n",
              "      filter: drop-shadow(0px 1px 2px rgba(0, 0, 0, 0.3));\n",
              "      fill: #FFFFFF;\n",
              "    }\n",
              "  </style>\n",
              "\n",
              "    <script>\n",
              "      const buttonEl =\n",
              "        document.querySelector('#df-9ff4efd4-9224-4451-9de9-3122441b2c4c button.colab-df-convert');\n",
              "      buttonEl.style.display =\n",
              "        google.colab.kernel.accessAllowed ? 'block' : 'none';\n",
              "\n",
              "      async function convertToInteractive(key) {\n",
              "        const element = document.querySelector('#df-9ff4efd4-9224-4451-9de9-3122441b2c4c');\n",
              "        const dataTable =\n",
              "          await google.colab.kernel.invokeFunction('convertToInteractive',\n",
              "                                                    [key], {});\n",
              "        if (!dataTable) return;\n",
              "\n",
              "        const docLinkHtml = 'Like what you see? Visit the ' +\n",
              "          '<a target=\"_blank\" href=https://colab.research.google.com/notebooks/data_table.ipynb>data table notebook</a>'\n",
              "          + ' to learn more about interactive tables.';\n",
              "        element.innerHTML = '';\n",
              "        dataTable['output_type'] = 'display_data';\n",
              "        await google.colab.output.renderOutput(dataTable, element);\n",
              "        const docLink = document.createElement('div');\n",
              "        docLink.innerHTML = docLinkHtml;\n",
              "        element.appendChild(docLink);\n",
              "      }\n",
              "    </script>\n",
              "  </div>\n",
              "\n",
              "\n",
              "<div id=\"df-4a087b78-60ee-4836-831f-2c755d0b0cf1\">\n",
              "  <button class=\"colab-df-quickchart\" onclick=\"quickchart('df-4a087b78-60ee-4836-831f-2c755d0b0cf1')\"\n",
              "            title=\"Suggest charts.\"\n",
              "            style=\"display:none;\">\n",
              "\n",
              "<svg xmlns=\"http://www.w3.org/2000/svg\" height=\"24px\"viewBox=\"0 0 24 24\"\n",
              "     width=\"24px\">\n",
              "    <g>\n",
              "        <path d=\"M19 3H5c-1.1 0-2 .9-2 2v14c0 1.1.9 2 2 2h14c1.1 0 2-.9 2-2V5c0-1.1-.9-2-2-2zM9 17H7v-7h2v7zm4 0h-2V7h2v10zm4 0h-2v-4h2v4z\"/>\n",
              "    </g>\n",
              "</svg>\n",
              "  </button>\n",
              "\n",
              "<style>\n",
              "  .colab-df-quickchart {\n",
              "      --bg-color: #E8F0FE;\n",
              "      --fill-color: #1967D2;\n",
              "      --hover-bg-color: #E2EBFA;\n",
              "      --hover-fill-color: #174EA6;\n",
              "      --disabled-fill-color: #AAA;\n",
              "      --disabled-bg-color: #DDD;\n",
              "  }\n",
              "\n",
              "  [theme=dark] .colab-df-quickchart {\n",
              "      --bg-color: #3B4455;\n",
              "      --fill-color: #D2E3FC;\n",
              "      --hover-bg-color: #434B5C;\n",
              "      --hover-fill-color: #FFFFFF;\n",
              "      --disabled-bg-color: #3B4455;\n",
              "      --disabled-fill-color: #666;\n",
              "  }\n",
              "\n",
              "  .colab-df-quickchart {\n",
              "    background-color: var(--bg-color);\n",
              "    border: none;\n",
              "    border-radius: 50%;\n",
              "    cursor: pointer;\n",
              "    display: none;\n",
              "    fill: var(--fill-color);\n",
              "    height: 32px;\n",
              "    padding: 0;\n",
              "    width: 32px;\n",
              "  }\n",
              "\n",
              "  .colab-df-quickchart:hover {\n",
              "    background-color: var(--hover-bg-color);\n",
              "    box-shadow: 0 1px 2px rgba(60, 64, 67, 0.3), 0 1px 3px 1px rgba(60, 64, 67, 0.15);\n",
              "    fill: var(--button-hover-fill-color);\n",
              "  }\n",
              "\n",
              "  .colab-df-quickchart-complete:disabled,\n",
              "  .colab-df-quickchart-complete:disabled:hover {\n",
              "    background-color: var(--disabled-bg-color);\n",
              "    fill: var(--disabled-fill-color);\n",
              "    box-shadow: none;\n",
              "  }\n",
              "\n",
              "  .colab-df-spinner {\n",
              "    border: 2px solid var(--fill-color);\n",
              "    border-color: transparent;\n",
              "    border-bottom-color: var(--fill-color);\n",
              "    animation:\n",
              "      spin 1s steps(1) infinite;\n",
              "  }\n",
              "\n",
              "  @keyframes spin {\n",
              "    0% {\n",
              "      border-color: transparent;\n",
              "      border-bottom-color: var(--fill-color);\n",
              "      border-left-color: var(--fill-color);\n",
              "    }\n",
              "    20% {\n",
              "      border-color: transparent;\n",
              "      border-left-color: var(--fill-color);\n",
              "      border-top-color: var(--fill-color);\n",
              "    }\n",
              "    30% {\n",
              "      border-color: transparent;\n",
              "      border-left-color: var(--fill-color);\n",
              "      border-top-color: var(--fill-color);\n",
              "      border-right-color: var(--fill-color);\n",
              "    }\n",
              "    40% {\n",
              "      border-color: transparent;\n",
              "      border-right-color: var(--fill-color);\n",
              "      border-top-color: var(--fill-color);\n",
              "    }\n",
              "    60% {\n",
              "      border-color: transparent;\n",
              "      border-right-color: var(--fill-color);\n",
              "    }\n",
              "    80% {\n",
              "      border-color: transparent;\n",
              "      border-right-color: var(--fill-color);\n",
              "      border-bottom-color: var(--fill-color);\n",
              "    }\n",
              "    90% {\n",
              "      border-color: transparent;\n",
              "      border-bottom-color: var(--fill-color);\n",
              "    }\n",
              "  }\n",
              "</style>\n",
              "\n",
              "  <script>\n",
              "    async function quickchart(key) {\n",
              "      const quickchartButtonEl =\n",
              "        document.querySelector('#' + key + ' button');\n",
              "      quickchartButtonEl.disabled = true;  // To prevent multiple clicks.\n",
              "      quickchartButtonEl.classList.add('colab-df-spinner');\n",
              "      try {\n",
              "        const charts = await google.colab.kernel.invokeFunction(\n",
              "            'suggestCharts', [key], {});\n",
              "      } catch (error) {\n",
              "        console.error('Error during call to suggestCharts:', error);\n",
              "      }\n",
              "      quickchartButtonEl.classList.remove('colab-df-spinner');\n",
              "      quickchartButtonEl.classList.add('colab-df-quickchart-complete');\n",
              "    }\n",
              "    (() => {\n",
              "      let quickchartButtonEl =\n",
              "        document.querySelector('#df-4a087b78-60ee-4836-831f-2c755d0b0cf1 button');\n",
              "      quickchartButtonEl.style.display =\n",
              "        google.colab.kernel.accessAllowed ? 'block' : 'none';\n",
              "    })();\n",
              "  </script>\n",
              "</div>\n",
              "    </div>\n",
              "  </div>\n"
            ]
          },
          "metadata": {},
          "execution_count": 157
        }
      ]
    },
    {
      "cell_type": "code",
      "metadata": {
        "id": "ps03w6-4k0HC",
        "colab": {
          "base_uri": "https://localhost:8080/"
        },
        "outputId": "73c5892b-f8e4-4e85-9d59-68e767e73249"
      },
      "source": [
        "df.loc[\"Row1\"]#accessing the elements - .loc and .iloc(index location)"
      ],
      "execution_count": 158,
      "outputs": [
        {
          "output_type": "execute_result",
          "data": {
            "text/plain": [
              "column1    0\n",
              "column2    1\n",
              "column3    2\n",
              "column4    3\n",
              "Name: Row1, dtype: int64"
            ]
          },
          "metadata": {},
          "execution_count": 158
        }
      ]
    },
    {
      "cell_type": "code",
      "metadata": {
        "id": "laT17eByk0Fo",
        "colab": {
          "base_uri": "https://localhost:8080/"
        },
        "outputId": "cf590518-bc7d-498c-e159-1259f9510359"
      },
      "source": [
        "type(df.loc['Row1']) #dataframe should be greater than 1 column and more than 1 row  and dataseries can have 1 row and multiple columns or 1 column and multiple rows"
      ],
      "execution_count": 159,
      "outputs": [
        {
          "output_type": "execute_result",
          "data": {
            "text/plain": [
              "pandas.core.series.Series"
            ]
          },
          "metadata": {},
          "execution_count": 159
        }
      ]
    },
    {
      "cell_type": "code",
      "metadata": {
        "id": "4TCclTrYnklV",
        "colab": {
          "base_uri": "https://localhost:8080/",
          "height": 206
        },
        "outputId": "ede6bd4f-663a-4180-e580-676d7c6ef986"
      },
      "source": [
        "df.iloc[:,:]#all rows and all columns"
      ],
      "execution_count": 160,
      "outputs": [
        {
          "output_type": "execute_result",
          "data": {
            "text/plain": [
              "      column1  column2  column3  column4\n",
              "Row1        0        1        2        3\n",
              "Row2        4        5        6        7\n",
              "Row3        8        9       10       11\n",
              "Row4       12       13       14       15\n",
              "Row5       16       17       18       19"
            ],
            "text/html": [
              "\n",
              "  <div id=\"df-146cab6f-6d00-443e-988f-152ff3e5dba0\" class=\"colab-df-container\">\n",
              "    <div>\n",
              "<style scoped>\n",
              "    .dataframe tbody tr th:only-of-type {\n",
              "        vertical-align: middle;\n",
              "    }\n",
              "\n",
              "    .dataframe tbody tr th {\n",
              "        vertical-align: top;\n",
              "    }\n",
              "\n",
              "    .dataframe thead th {\n",
              "        text-align: right;\n",
              "    }\n",
              "</style>\n",
              "<table border=\"1\" class=\"dataframe\">\n",
              "  <thead>\n",
              "    <tr style=\"text-align: right;\">\n",
              "      <th></th>\n",
              "      <th>column1</th>\n",
              "      <th>column2</th>\n",
              "      <th>column3</th>\n",
              "      <th>column4</th>\n",
              "    </tr>\n",
              "  </thead>\n",
              "  <tbody>\n",
              "    <tr>\n",
              "      <th>Row1</th>\n",
              "      <td>0</td>\n",
              "      <td>1</td>\n",
              "      <td>2</td>\n",
              "      <td>3</td>\n",
              "    </tr>\n",
              "    <tr>\n",
              "      <th>Row2</th>\n",
              "      <td>4</td>\n",
              "      <td>5</td>\n",
              "      <td>6</td>\n",
              "      <td>7</td>\n",
              "    </tr>\n",
              "    <tr>\n",
              "      <th>Row3</th>\n",
              "      <td>8</td>\n",
              "      <td>9</td>\n",
              "      <td>10</td>\n",
              "      <td>11</td>\n",
              "    </tr>\n",
              "    <tr>\n",
              "      <th>Row4</th>\n",
              "      <td>12</td>\n",
              "      <td>13</td>\n",
              "      <td>14</td>\n",
              "      <td>15</td>\n",
              "    </tr>\n",
              "    <tr>\n",
              "      <th>Row5</th>\n",
              "      <td>16</td>\n",
              "      <td>17</td>\n",
              "      <td>18</td>\n",
              "      <td>19</td>\n",
              "    </tr>\n",
              "  </tbody>\n",
              "</table>\n",
              "</div>\n",
              "    <div class=\"colab-df-buttons\">\n",
              "\n",
              "  <div class=\"colab-df-container\">\n",
              "    <button class=\"colab-df-convert\" onclick=\"convertToInteractive('df-146cab6f-6d00-443e-988f-152ff3e5dba0')\"\n",
              "            title=\"Convert this dataframe to an interactive table.\"\n",
              "            style=\"display:none;\">\n",
              "\n",
              "  <svg xmlns=\"http://www.w3.org/2000/svg\" height=\"24px\" viewBox=\"0 -960 960 960\">\n",
              "    <path d=\"M120-120v-720h720v720H120Zm60-500h600v-160H180v160Zm220 220h160v-160H400v160Zm0 220h160v-160H400v160ZM180-400h160v-160H180v160Zm440 0h160v-160H620v160ZM180-180h160v-160H180v160Zm440 0h160v-160H620v160Z\"/>\n",
              "  </svg>\n",
              "    </button>\n",
              "\n",
              "  <style>\n",
              "    .colab-df-container {\n",
              "      display:flex;\n",
              "      gap: 12px;\n",
              "    }\n",
              "\n",
              "    .colab-df-convert {\n",
              "      background-color: #E8F0FE;\n",
              "      border: none;\n",
              "      border-radius: 50%;\n",
              "      cursor: pointer;\n",
              "      display: none;\n",
              "      fill: #1967D2;\n",
              "      height: 32px;\n",
              "      padding: 0 0 0 0;\n",
              "      width: 32px;\n",
              "    }\n",
              "\n",
              "    .colab-df-convert:hover {\n",
              "      background-color: #E2EBFA;\n",
              "      box-shadow: 0px 1px 2px rgba(60, 64, 67, 0.3), 0px 1px 3px 1px rgba(60, 64, 67, 0.15);\n",
              "      fill: #174EA6;\n",
              "    }\n",
              "\n",
              "    .colab-df-buttons div {\n",
              "      margin-bottom: 4px;\n",
              "    }\n",
              "\n",
              "    [theme=dark] .colab-df-convert {\n",
              "      background-color: #3B4455;\n",
              "      fill: #D2E3FC;\n",
              "    }\n",
              "\n",
              "    [theme=dark] .colab-df-convert:hover {\n",
              "      background-color: #434B5C;\n",
              "      box-shadow: 0px 1px 3px 1px rgba(0, 0, 0, 0.15);\n",
              "      filter: drop-shadow(0px 1px 2px rgba(0, 0, 0, 0.3));\n",
              "      fill: #FFFFFF;\n",
              "    }\n",
              "  </style>\n",
              "\n",
              "    <script>\n",
              "      const buttonEl =\n",
              "        document.querySelector('#df-146cab6f-6d00-443e-988f-152ff3e5dba0 button.colab-df-convert');\n",
              "      buttonEl.style.display =\n",
              "        google.colab.kernel.accessAllowed ? 'block' : 'none';\n",
              "\n",
              "      async function convertToInteractive(key) {\n",
              "        const element = document.querySelector('#df-146cab6f-6d00-443e-988f-152ff3e5dba0');\n",
              "        const dataTable =\n",
              "          await google.colab.kernel.invokeFunction('convertToInteractive',\n",
              "                                                    [key], {});\n",
              "        if (!dataTable) return;\n",
              "\n",
              "        const docLinkHtml = 'Like what you see? Visit the ' +\n",
              "          '<a target=\"_blank\" href=https://colab.research.google.com/notebooks/data_table.ipynb>data table notebook</a>'\n",
              "          + ' to learn more about interactive tables.';\n",
              "        element.innerHTML = '';\n",
              "        dataTable['output_type'] = 'display_data';\n",
              "        await google.colab.output.renderOutput(dataTable, element);\n",
              "        const docLink = document.createElement('div');\n",
              "        docLink.innerHTML = docLinkHtml;\n",
              "        element.appendChild(docLink);\n",
              "      }\n",
              "    </script>\n",
              "  </div>\n",
              "\n",
              "\n",
              "<div id=\"df-5e607270-84e9-4523-b1f2-6ce434f76a60\">\n",
              "  <button class=\"colab-df-quickchart\" onclick=\"quickchart('df-5e607270-84e9-4523-b1f2-6ce434f76a60')\"\n",
              "            title=\"Suggest charts.\"\n",
              "            style=\"display:none;\">\n",
              "\n",
              "<svg xmlns=\"http://www.w3.org/2000/svg\" height=\"24px\"viewBox=\"0 0 24 24\"\n",
              "     width=\"24px\">\n",
              "    <g>\n",
              "        <path d=\"M19 3H5c-1.1 0-2 .9-2 2v14c0 1.1.9 2 2 2h14c1.1 0 2-.9 2-2V5c0-1.1-.9-2-2-2zM9 17H7v-7h2v7zm4 0h-2V7h2v10zm4 0h-2v-4h2v4z\"/>\n",
              "    </g>\n",
              "</svg>\n",
              "  </button>\n",
              "\n",
              "<style>\n",
              "  .colab-df-quickchart {\n",
              "      --bg-color: #E8F0FE;\n",
              "      --fill-color: #1967D2;\n",
              "      --hover-bg-color: #E2EBFA;\n",
              "      --hover-fill-color: #174EA6;\n",
              "      --disabled-fill-color: #AAA;\n",
              "      --disabled-bg-color: #DDD;\n",
              "  }\n",
              "\n",
              "  [theme=dark] .colab-df-quickchart {\n",
              "      --bg-color: #3B4455;\n",
              "      --fill-color: #D2E3FC;\n",
              "      --hover-bg-color: #434B5C;\n",
              "      --hover-fill-color: #FFFFFF;\n",
              "      --disabled-bg-color: #3B4455;\n",
              "      --disabled-fill-color: #666;\n",
              "  }\n",
              "\n",
              "  .colab-df-quickchart {\n",
              "    background-color: var(--bg-color);\n",
              "    border: none;\n",
              "    border-radius: 50%;\n",
              "    cursor: pointer;\n",
              "    display: none;\n",
              "    fill: var(--fill-color);\n",
              "    height: 32px;\n",
              "    padding: 0;\n",
              "    width: 32px;\n",
              "  }\n",
              "\n",
              "  .colab-df-quickchart:hover {\n",
              "    background-color: var(--hover-bg-color);\n",
              "    box-shadow: 0 1px 2px rgba(60, 64, 67, 0.3), 0 1px 3px 1px rgba(60, 64, 67, 0.15);\n",
              "    fill: var(--button-hover-fill-color);\n",
              "  }\n",
              "\n",
              "  .colab-df-quickchart-complete:disabled,\n",
              "  .colab-df-quickchart-complete:disabled:hover {\n",
              "    background-color: var(--disabled-bg-color);\n",
              "    fill: var(--disabled-fill-color);\n",
              "    box-shadow: none;\n",
              "  }\n",
              "\n",
              "  .colab-df-spinner {\n",
              "    border: 2px solid var(--fill-color);\n",
              "    border-color: transparent;\n",
              "    border-bottom-color: var(--fill-color);\n",
              "    animation:\n",
              "      spin 1s steps(1) infinite;\n",
              "  }\n",
              "\n",
              "  @keyframes spin {\n",
              "    0% {\n",
              "      border-color: transparent;\n",
              "      border-bottom-color: var(--fill-color);\n",
              "      border-left-color: var(--fill-color);\n",
              "    }\n",
              "    20% {\n",
              "      border-color: transparent;\n",
              "      border-left-color: var(--fill-color);\n",
              "      border-top-color: var(--fill-color);\n",
              "    }\n",
              "    30% {\n",
              "      border-color: transparent;\n",
              "      border-left-color: var(--fill-color);\n",
              "      border-top-color: var(--fill-color);\n",
              "      border-right-color: var(--fill-color);\n",
              "    }\n",
              "    40% {\n",
              "      border-color: transparent;\n",
              "      border-right-color: var(--fill-color);\n",
              "      border-top-color: var(--fill-color);\n",
              "    }\n",
              "    60% {\n",
              "      border-color: transparent;\n",
              "      border-right-color: var(--fill-color);\n",
              "    }\n",
              "    80% {\n",
              "      border-color: transparent;\n",
              "      border-right-color: var(--fill-color);\n",
              "      border-bottom-color: var(--fill-color);\n",
              "    }\n",
              "    90% {\n",
              "      border-color: transparent;\n",
              "      border-bottom-color: var(--fill-color);\n",
              "    }\n",
              "  }\n",
              "</style>\n",
              "\n",
              "  <script>\n",
              "    async function quickchart(key) {\n",
              "      const quickchartButtonEl =\n",
              "        document.querySelector('#' + key + ' button');\n",
              "      quickchartButtonEl.disabled = true;  // To prevent multiple clicks.\n",
              "      quickchartButtonEl.classList.add('colab-df-spinner');\n",
              "      try {\n",
              "        const charts = await google.colab.kernel.invokeFunction(\n",
              "            'suggestCharts', [key], {});\n",
              "      } catch (error) {\n",
              "        console.error('Error during call to suggestCharts:', error);\n",
              "      }\n",
              "      quickchartButtonEl.classList.remove('colab-df-spinner');\n",
              "      quickchartButtonEl.classList.add('colab-df-quickchart-complete');\n",
              "    }\n",
              "    (() => {\n",
              "      let quickchartButtonEl =\n",
              "        document.querySelector('#df-5e607270-84e9-4523-b1f2-6ce434f76a60 button');\n",
              "      quickchartButtonEl.style.display =\n",
              "        google.colab.kernel.accessAllowed ? 'block' : 'none';\n",
              "    })();\n",
              "  </script>\n",
              "</div>\n",
              "    </div>\n",
              "  </div>\n"
            ]
          },
          "metadata": {},
          "execution_count": 160
        }
      ]
    },
    {
      "cell_type": "code",
      "metadata": {
        "id": "THxa-Nn_oDe5",
        "colab": {
          "base_uri": "https://localhost:8080/",
          "height": 112
        },
        "outputId": "e79c8a8f-3a76-4333-d27a-90aa9f860c3a"
      },
      "source": [
        "df.iloc[0:2,0:2]"
      ],
      "execution_count": 161,
      "outputs": [
        {
          "output_type": "execute_result",
          "data": {
            "text/plain": [
              "      column1  column2\n",
              "Row1        0        1\n",
              "Row2        4        5"
            ],
            "text/html": [
              "\n",
              "  <div id=\"df-dc00b31d-ae0a-4eca-aed8-2402656c4a48\" class=\"colab-df-container\">\n",
              "    <div>\n",
              "<style scoped>\n",
              "    .dataframe tbody tr th:only-of-type {\n",
              "        vertical-align: middle;\n",
              "    }\n",
              "\n",
              "    .dataframe tbody tr th {\n",
              "        vertical-align: top;\n",
              "    }\n",
              "\n",
              "    .dataframe thead th {\n",
              "        text-align: right;\n",
              "    }\n",
              "</style>\n",
              "<table border=\"1\" class=\"dataframe\">\n",
              "  <thead>\n",
              "    <tr style=\"text-align: right;\">\n",
              "      <th></th>\n",
              "      <th>column1</th>\n",
              "      <th>column2</th>\n",
              "    </tr>\n",
              "  </thead>\n",
              "  <tbody>\n",
              "    <tr>\n",
              "      <th>Row1</th>\n",
              "      <td>0</td>\n",
              "      <td>1</td>\n",
              "    </tr>\n",
              "    <tr>\n",
              "      <th>Row2</th>\n",
              "      <td>4</td>\n",
              "      <td>5</td>\n",
              "    </tr>\n",
              "  </tbody>\n",
              "</table>\n",
              "</div>\n",
              "    <div class=\"colab-df-buttons\">\n",
              "\n",
              "  <div class=\"colab-df-container\">\n",
              "    <button class=\"colab-df-convert\" onclick=\"convertToInteractive('df-dc00b31d-ae0a-4eca-aed8-2402656c4a48')\"\n",
              "            title=\"Convert this dataframe to an interactive table.\"\n",
              "            style=\"display:none;\">\n",
              "\n",
              "  <svg xmlns=\"http://www.w3.org/2000/svg\" height=\"24px\" viewBox=\"0 -960 960 960\">\n",
              "    <path d=\"M120-120v-720h720v720H120Zm60-500h600v-160H180v160Zm220 220h160v-160H400v160Zm0 220h160v-160H400v160ZM180-400h160v-160H180v160Zm440 0h160v-160H620v160ZM180-180h160v-160H180v160Zm440 0h160v-160H620v160Z\"/>\n",
              "  </svg>\n",
              "    </button>\n",
              "\n",
              "  <style>\n",
              "    .colab-df-container {\n",
              "      display:flex;\n",
              "      gap: 12px;\n",
              "    }\n",
              "\n",
              "    .colab-df-convert {\n",
              "      background-color: #E8F0FE;\n",
              "      border: none;\n",
              "      border-radius: 50%;\n",
              "      cursor: pointer;\n",
              "      display: none;\n",
              "      fill: #1967D2;\n",
              "      height: 32px;\n",
              "      padding: 0 0 0 0;\n",
              "      width: 32px;\n",
              "    }\n",
              "\n",
              "    .colab-df-convert:hover {\n",
              "      background-color: #E2EBFA;\n",
              "      box-shadow: 0px 1px 2px rgba(60, 64, 67, 0.3), 0px 1px 3px 1px rgba(60, 64, 67, 0.15);\n",
              "      fill: #174EA6;\n",
              "    }\n",
              "\n",
              "    .colab-df-buttons div {\n",
              "      margin-bottom: 4px;\n",
              "    }\n",
              "\n",
              "    [theme=dark] .colab-df-convert {\n",
              "      background-color: #3B4455;\n",
              "      fill: #D2E3FC;\n",
              "    }\n",
              "\n",
              "    [theme=dark] .colab-df-convert:hover {\n",
              "      background-color: #434B5C;\n",
              "      box-shadow: 0px 1px 3px 1px rgba(0, 0, 0, 0.15);\n",
              "      filter: drop-shadow(0px 1px 2px rgba(0, 0, 0, 0.3));\n",
              "      fill: #FFFFFF;\n",
              "    }\n",
              "  </style>\n",
              "\n",
              "    <script>\n",
              "      const buttonEl =\n",
              "        document.querySelector('#df-dc00b31d-ae0a-4eca-aed8-2402656c4a48 button.colab-df-convert');\n",
              "      buttonEl.style.display =\n",
              "        google.colab.kernel.accessAllowed ? 'block' : 'none';\n",
              "\n",
              "      async function convertToInteractive(key) {\n",
              "        const element = document.querySelector('#df-dc00b31d-ae0a-4eca-aed8-2402656c4a48');\n",
              "        const dataTable =\n",
              "          await google.colab.kernel.invokeFunction('convertToInteractive',\n",
              "                                                    [key], {});\n",
              "        if (!dataTable) return;\n",
              "\n",
              "        const docLinkHtml = 'Like what you see? Visit the ' +\n",
              "          '<a target=\"_blank\" href=https://colab.research.google.com/notebooks/data_table.ipynb>data table notebook</a>'\n",
              "          + ' to learn more about interactive tables.';\n",
              "        element.innerHTML = '';\n",
              "        dataTable['output_type'] = 'display_data';\n",
              "        await google.colab.output.renderOutput(dataTable, element);\n",
              "        const docLink = document.createElement('div');\n",
              "        docLink.innerHTML = docLinkHtml;\n",
              "        element.appendChild(docLink);\n",
              "      }\n",
              "    </script>\n",
              "  </div>\n",
              "\n",
              "\n",
              "<div id=\"df-b5475c50-047c-4f02-b6d6-2094441cc23f\">\n",
              "  <button class=\"colab-df-quickchart\" onclick=\"quickchart('df-b5475c50-047c-4f02-b6d6-2094441cc23f')\"\n",
              "            title=\"Suggest charts.\"\n",
              "            style=\"display:none;\">\n",
              "\n",
              "<svg xmlns=\"http://www.w3.org/2000/svg\" height=\"24px\"viewBox=\"0 0 24 24\"\n",
              "     width=\"24px\">\n",
              "    <g>\n",
              "        <path d=\"M19 3H5c-1.1 0-2 .9-2 2v14c0 1.1.9 2 2 2h14c1.1 0 2-.9 2-2V5c0-1.1-.9-2-2-2zM9 17H7v-7h2v7zm4 0h-2V7h2v10zm4 0h-2v-4h2v4z\"/>\n",
              "    </g>\n",
              "</svg>\n",
              "  </button>\n",
              "\n",
              "<style>\n",
              "  .colab-df-quickchart {\n",
              "      --bg-color: #E8F0FE;\n",
              "      --fill-color: #1967D2;\n",
              "      --hover-bg-color: #E2EBFA;\n",
              "      --hover-fill-color: #174EA6;\n",
              "      --disabled-fill-color: #AAA;\n",
              "      --disabled-bg-color: #DDD;\n",
              "  }\n",
              "\n",
              "  [theme=dark] .colab-df-quickchart {\n",
              "      --bg-color: #3B4455;\n",
              "      --fill-color: #D2E3FC;\n",
              "      --hover-bg-color: #434B5C;\n",
              "      --hover-fill-color: #FFFFFF;\n",
              "      --disabled-bg-color: #3B4455;\n",
              "      --disabled-fill-color: #666;\n",
              "  }\n",
              "\n",
              "  .colab-df-quickchart {\n",
              "    background-color: var(--bg-color);\n",
              "    border: none;\n",
              "    border-radius: 50%;\n",
              "    cursor: pointer;\n",
              "    display: none;\n",
              "    fill: var(--fill-color);\n",
              "    height: 32px;\n",
              "    padding: 0;\n",
              "    width: 32px;\n",
              "  }\n",
              "\n",
              "  .colab-df-quickchart:hover {\n",
              "    background-color: var(--hover-bg-color);\n",
              "    box-shadow: 0 1px 2px rgba(60, 64, 67, 0.3), 0 1px 3px 1px rgba(60, 64, 67, 0.15);\n",
              "    fill: var(--button-hover-fill-color);\n",
              "  }\n",
              "\n",
              "  .colab-df-quickchart-complete:disabled,\n",
              "  .colab-df-quickchart-complete:disabled:hover {\n",
              "    background-color: var(--disabled-bg-color);\n",
              "    fill: var(--disabled-fill-color);\n",
              "    box-shadow: none;\n",
              "  }\n",
              "\n",
              "  .colab-df-spinner {\n",
              "    border: 2px solid var(--fill-color);\n",
              "    border-color: transparent;\n",
              "    border-bottom-color: var(--fill-color);\n",
              "    animation:\n",
              "      spin 1s steps(1) infinite;\n",
              "  }\n",
              "\n",
              "  @keyframes spin {\n",
              "    0% {\n",
              "      border-color: transparent;\n",
              "      border-bottom-color: var(--fill-color);\n",
              "      border-left-color: var(--fill-color);\n",
              "    }\n",
              "    20% {\n",
              "      border-color: transparent;\n",
              "      border-left-color: var(--fill-color);\n",
              "      border-top-color: var(--fill-color);\n",
              "    }\n",
              "    30% {\n",
              "      border-color: transparent;\n",
              "      border-left-color: var(--fill-color);\n",
              "      border-top-color: var(--fill-color);\n",
              "      border-right-color: var(--fill-color);\n",
              "    }\n",
              "    40% {\n",
              "      border-color: transparent;\n",
              "      border-right-color: var(--fill-color);\n",
              "      border-top-color: var(--fill-color);\n",
              "    }\n",
              "    60% {\n",
              "      border-color: transparent;\n",
              "      border-right-color: var(--fill-color);\n",
              "    }\n",
              "    80% {\n",
              "      border-color: transparent;\n",
              "      border-right-color: var(--fill-color);\n",
              "      border-bottom-color: var(--fill-color);\n",
              "    }\n",
              "    90% {\n",
              "      border-color: transparent;\n",
              "      border-bottom-color: var(--fill-color);\n",
              "    }\n",
              "  }\n",
              "</style>\n",
              "\n",
              "  <script>\n",
              "    async function quickchart(key) {\n",
              "      const quickchartButtonEl =\n",
              "        document.querySelector('#' + key + ' button');\n",
              "      quickchartButtonEl.disabled = true;  // To prevent multiple clicks.\n",
              "      quickchartButtonEl.classList.add('colab-df-spinner');\n",
              "      try {\n",
              "        const charts = await google.colab.kernel.invokeFunction(\n",
              "            'suggestCharts', [key], {});\n",
              "      } catch (error) {\n",
              "        console.error('Error during call to suggestCharts:', error);\n",
              "      }\n",
              "      quickchartButtonEl.classList.remove('colab-df-spinner');\n",
              "      quickchartButtonEl.classList.add('colab-df-quickchart-complete');\n",
              "    }\n",
              "    (() => {\n",
              "      let quickchartButtonEl =\n",
              "        document.querySelector('#df-b5475c50-047c-4f02-b6d6-2094441cc23f button');\n",
              "      quickchartButtonEl.style.display =\n",
              "        google.colab.kernel.accessAllowed ? 'block' : 'none';\n",
              "    })();\n",
              "  </script>\n",
              "</div>\n",
              "    </div>\n",
              "  </div>\n"
            ]
          },
          "metadata": {},
          "execution_count": 161
        }
      ]
    },
    {
      "cell_type": "code",
      "metadata": {
        "id": "3pfFAqNfoM0y",
        "colab": {
          "base_uri": "https://localhost:8080/"
        },
        "outputId": "a035568d-577d-4cc5-8f39-67f1d3cc9a49"
      },
      "source": [
        "type(df.iloc[0:2,0:2])#since we have more than 1 row and columns"
      ],
      "execution_count": 162,
      "outputs": [
        {
          "output_type": "execute_result",
          "data": {
            "text/plain": [
              "pandas.core.frame.DataFrame"
            ]
          },
          "metadata": {},
          "execution_count": 162
        }
      ]
    },
    {
      "cell_type": "code",
      "metadata": {
        "id": "opzkI0dVoTFB",
        "colab": {
          "base_uri": "https://localhost:8080/"
        },
        "outputId": "6a4e856a-0f72-478c-f1e9-ce8b3df77f3a"
      },
      "source": [
        "df.iloc[0:2,0]"
      ],
      "execution_count": 163,
      "outputs": [
        {
          "output_type": "execute_result",
          "data": {
            "text/plain": [
              "Row1    0\n",
              "Row2    4\n",
              "Name: column1, dtype: int64"
            ]
          },
          "metadata": {},
          "execution_count": 163
        }
      ]
    },
    {
      "cell_type": "code",
      "metadata": {
        "id": "qOpNh10Do8ME",
        "colab": {
          "base_uri": "https://localhost:8080/"
        },
        "outputId": "3111b278-b14d-41f0-a1cb-e45fabdb52de"
      },
      "source": [
        "type(df.iloc[0:2,0])"
      ],
      "execution_count": 164,
      "outputs": [
        {
          "output_type": "execute_result",
          "data": {
            "text/plain": [
              "pandas.core.series.Series"
            ]
          },
          "metadata": {},
          "execution_count": 164
        }
      ]
    },
    {
      "cell_type": "code",
      "metadata": {
        "id": "7gEVaQZdpAbx",
        "colab": {
          "base_uri": "https://localhost:8080/",
          "height": 206
        },
        "outputId": "53d24334-f2a2-40b4-d9eb-3b23bc4cb78e"
      },
      "source": [
        "df.iloc[:,1:]"
      ],
      "execution_count": 165,
      "outputs": [
        {
          "output_type": "execute_result",
          "data": {
            "text/plain": [
              "      column2  column3  column4\n",
              "Row1        1        2        3\n",
              "Row2        5        6        7\n",
              "Row3        9       10       11\n",
              "Row4       13       14       15\n",
              "Row5       17       18       19"
            ],
            "text/html": [
              "\n",
              "  <div id=\"df-2190d770-8693-474d-acf5-4f24db5ba1db\" class=\"colab-df-container\">\n",
              "    <div>\n",
              "<style scoped>\n",
              "    .dataframe tbody tr th:only-of-type {\n",
              "        vertical-align: middle;\n",
              "    }\n",
              "\n",
              "    .dataframe tbody tr th {\n",
              "        vertical-align: top;\n",
              "    }\n",
              "\n",
              "    .dataframe thead th {\n",
              "        text-align: right;\n",
              "    }\n",
              "</style>\n",
              "<table border=\"1\" class=\"dataframe\">\n",
              "  <thead>\n",
              "    <tr style=\"text-align: right;\">\n",
              "      <th></th>\n",
              "      <th>column2</th>\n",
              "      <th>column3</th>\n",
              "      <th>column4</th>\n",
              "    </tr>\n",
              "  </thead>\n",
              "  <tbody>\n",
              "    <tr>\n",
              "      <th>Row1</th>\n",
              "      <td>1</td>\n",
              "      <td>2</td>\n",
              "      <td>3</td>\n",
              "    </tr>\n",
              "    <tr>\n",
              "      <th>Row2</th>\n",
              "      <td>5</td>\n",
              "      <td>6</td>\n",
              "      <td>7</td>\n",
              "    </tr>\n",
              "    <tr>\n",
              "      <th>Row3</th>\n",
              "      <td>9</td>\n",
              "      <td>10</td>\n",
              "      <td>11</td>\n",
              "    </tr>\n",
              "    <tr>\n",
              "      <th>Row4</th>\n",
              "      <td>13</td>\n",
              "      <td>14</td>\n",
              "      <td>15</td>\n",
              "    </tr>\n",
              "    <tr>\n",
              "      <th>Row5</th>\n",
              "      <td>17</td>\n",
              "      <td>18</td>\n",
              "      <td>19</td>\n",
              "    </tr>\n",
              "  </tbody>\n",
              "</table>\n",
              "</div>\n",
              "    <div class=\"colab-df-buttons\">\n",
              "\n",
              "  <div class=\"colab-df-container\">\n",
              "    <button class=\"colab-df-convert\" onclick=\"convertToInteractive('df-2190d770-8693-474d-acf5-4f24db5ba1db')\"\n",
              "            title=\"Convert this dataframe to an interactive table.\"\n",
              "            style=\"display:none;\">\n",
              "\n",
              "  <svg xmlns=\"http://www.w3.org/2000/svg\" height=\"24px\" viewBox=\"0 -960 960 960\">\n",
              "    <path d=\"M120-120v-720h720v720H120Zm60-500h600v-160H180v160Zm220 220h160v-160H400v160Zm0 220h160v-160H400v160ZM180-400h160v-160H180v160Zm440 0h160v-160H620v160ZM180-180h160v-160H180v160Zm440 0h160v-160H620v160Z\"/>\n",
              "  </svg>\n",
              "    </button>\n",
              "\n",
              "  <style>\n",
              "    .colab-df-container {\n",
              "      display:flex;\n",
              "      gap: 12px;\n",
              "    }\n",
              "\n",
              "    .colab-df-convert {\n",
              "      background-color: #E8F0FE;\n",
              "      border: none;\n",
              "      border-radius: 50%;\n",
              "      cursor: pointer;\n",
              "      display: none;\n",
              "      fill: #1967D2;\n",
              "      height: 32px;\n",
              "      padding: 0 0 0 0;\n",
              "      width: 32px;\n",
              "    }\n",
              "\n",
              "    .colab-df-convert:hover {\n",
              "      background-color: #E2EBFA;\n",
              "      box-shadow: 0px 1px 2px rgba(60, 64, 67, 0.3), 0px 1px 3px 1px rgba(60, 64, 67, 0.15);\n",
              "      fill: #174EA6;\n",
              "    }\n",
              "\n",
              "    .colab-df-buttons div {\n",
              "      margin-bottom: 4px;\n",
              "    }\n",
              "\n",
              "    [theme=dark] .colab-df-convert {\n",
              "      background-color: #3B4455;\n",
              "      fill: #D2E3FC;\n",
              "    }\n",
              "\n",
              "    [theme=dark] .colab-df-convert:hover {\n",
              "      background-color: #434B5C;\n",
              "      box-shadow: 0px 1px 3px 1px rgba(0, 0, 0, 0.15);\n",
              "      filter: drop-shadow(0px 1px 2px rgba(0, 0, 0, 0.3));\n",
              "      fill: #FFFFFF;\n",
              "    }\n",
              "  </style>\n",
              "\n",
              "    <script>\n",
              "      const buttonEl =\n",
              "        document.querySelector('#df-2190d770-8693-474d-acf5-4f24db5ba1db button.colab-df-convert');\n",
              "      buttonEl.style.display =\n",
              "        google.colab.kernel.accessAllowed ? 'block' : 'none';\n",
              "\n",
              "      async function convertToInteractive(key) {\n",
              "        const element = document.querySelector('#df-2190d770-8693-474d-acf5-4f24db5ba1db');\n",
              "        const dataTable =\n",
              "          await google.colab.kernel.invokeFunction('convertToInteractive',\n",
              "                                                    [key], {});\n",
              "        if (!dataTable) return;\n",
              "\n",
              "        const docLinkHtml = 'Like what you see? Visit the ' +\n",
              "          '<a target=\"_blank\" href=https://colab.research.google.com/notebooks/data_table.ipynb>data table notebook</a>'\n",
              "          + ' to learn more about interactive tables.';\n",
              "        element.innerHTML = '';\n",
              "        dataTable['output_type'] = 'display_data';\n",
              "        await google.colab.output.renderOutput(dataTable, element);\n",
              "        const docLink = document.createElement('div');\n",
              "        docLink.innerHTML = docLinkHtml;\n",
              "        element.appendChild(docLink);\n",
              "      }\n",
              "    </script>\n",
              "  </div>\n",
              "\n",
              "\n",
              "<div id=\"df-b809001e-5d82-401c-97b1-bff38a276c6c\">\n",
              "  <button class=\"colab-df-quickchart\" onclick=\"quickchart('df-b809001e-5d82-401c-97b1-bff38a276c6c')\"\n",
              "            title=\"Suggest charts.\"\n",
              "            style=\"display:none;\">\n",
              "\n",
              "<svg xmlns=\"http://www.w3.org/2000/svg\" height=\"24px\"viewBox=\"0 0 24 24\"\n",
              "     width=\"24px\">\n",
              "    <g>\n",
              "        <path d=\"M19 3H5c-1.1 0-2 .9-2 2v14c0 1.1.9 2 2 2h14c1.1 0 2-.9 2-2V5c0-1.1-.9-2-2-2zM9 17H7v-7h2v7zm4 0h-2V7h2v10zm4 0h-2v-4h2v4z\"/>\n",
              "    </g>\n",
              "</svg>\n",
              "  </button>\n",
              "\n",
              "<style>\n",
              "  .colab-df-quickchart {\n",
              "      --bg-color: #E8F0FE;\n",
              "      --fill-color: #1967D2;\n",
              "      --hover-bg-color: #E2EBFA;\n",
              "      --hover-fill-color: #174EA6;\n",
              "      --disabled-fill-color: #AAA;\n",
              "      --disabled-bg-color: #DDD;\n",
              "  }\n",
              "\n",
              "  [theme=dark] .colab-df-quickchart {\n",
              "      --bg-color: #3B4455;\n",
              "      --fill-color: #D2E3FC;\n",
              "      --hover-bg-color: #434B5C;\n",
              "      --hover-fill-color: #FFFFFF;\n",
              "      --disabled-bg-color: #3B4455;\n",
              "      --disabled-fill-color: #666;\n",
              "  }\n",
              "\n",
              "  .colab-df-quickchart {\n",
              "    background-color: var(--bg-color);\n",
              "    border: none;\n",
              "    border-radius: 50%;\n",
              "    cursor: pointer;\n",
              "    display: none;\n",
              "    fill: var(--fill-color);\n",
              "    height: 32px;\n",
              "    padding: 0;\n",
              "    width: 32px;\n",
              "  }\n",
              "\n",
              "  .colab-df-quickchart:hover {\n",
              "    background-color: var(--hover-bg-color);\n",
              "    box-shadow: 0 1px 2px rgba(60, 64, 67, 0.3), 0 1px 3px 1px rgba(60, 64, 67, 0.15);\n",
              "    fill: var(--button-hover-fill-color);\n",
              "  }\n",
              "\n",
              "  .colab-df-quickchart-complete:disabled,\n",
              "  .colab-df-quickchart-complete:disabled:hover {\n",
              "    background-color: var(--disabled-bg-color);\n",
              "    fill: var(--disabled-fill-color);\n",
              "    box-shadow: none;\n",
              "  }\n",
              "\n",
              "  .colab-df-spinner {\n",
              "    border: 2px solid var(--fill-color);\n",
              "    border-color: transparent;\n",
              "    border-bottom-color: var(--fill-color);\n",
              "    animation:\n",
              "      spin 1s steps(1) infinite;\n",
              "  }\n",
              "\n",
              "  @keyframes spin {\n",
              "    0% {\n",
              "      border-color: transparent;\n",
              "      border-bottom-color: var(--fill-color);\n",
              "      border-left-color: var(--fill-color);\n",
              "    }\n",
              "    20% {\n",
              "      border-color: transparent;\n",
              "      border-left-color: var(--fill-color);\n",
              "      border-top-color: var(--fill-color);\n",
              "    }\n",
              "    30% {\n",
              "      border-color: transparent;\n",
              "      border-left-color: var(--fill-color);\n",
              "      border-top-color: var(--fill-color);\n",
              "      border-right-color: var(--fill-color);\n",
              "    }\n",
              "    40% {\n",
              "      border-color: transparent;\n",
              "      border-right-color: var(--fill-color);\n",
              "      border-top-color: var(--fill-color);\n",
              "    }\n",
              "    60% {\n",
              "      border-color: transparent;\n",
              "      border-right-color: var(--fill-color);\n",
              "    }\n",
              "    80% {\n",
              "      border-color: transparent;\n",
              "      border-right-color: var(--fill-color);\n",
              "      border-bottom-color: var(--fill-color);\n",
              "    }\n",
              "    90% {\n",
              "      border-color: transparent;\n",
              "      border-bottom-color: var(--fill-color);\n",
              "    }\n",
              "  }\n",
              "</style>\n",
              "\n",
              "  <script>\n",
              "    async function quickchart(key) {\n",
              "      const quickchartButtonEl =\n",
              "        document.querySelector('#' + key + ' button');\n",
              "      quickchartButtonEl.disabled = true;  // To prevent multiple clicks.\n",
              "      quickchartButtonEl.classList.add('colab-df-spinner');\n",
              "      try {\n",
              "        const charts = await google.colab.kernel.invokeFunction(\n",
              "            'suggestCharts', [key], {});\n",
              "      } catch (error) {\n",
              "        console.error('Error during call to suggestCharts:', error);\n",
              "      }\n",
              "      quickchartButtonEl.classList.remove('colab-df-spinner');\n",
              "      quickchartButtonEl.classList.add('colab-df-quickchart-complete');\n",
              "    }\n",
              "    (() => {\n",
              "      let quickchartButtonEl =\n",
              "        document.querySelector('#df-b809001e-5d82-401c-97b1-bff38a276c6c button');\n",
              "      quickchartButtonEl.style.display =\n",
              "        google.colab.kernel.accessAllowed ? 'block' : 'none';\n",
              "    })();\n",
              "  </script>\n",
              "</div>\n",
              "    </div>\n",
              "  </div>\n"
            ]
          },
          "metadata": {},
          "execution_count": 165
        }
      ]
    },
    {
      "cell_type": "code",
      "metadata": {
        "id": "E1maFkQApIHI"
      },
      "source": [
        "#dataframes can be converted to arrays - if we skip column indexes and row indexes"
      ],
      "execution_count": 166,
      "outputs": []
    },
    {
      "cell_type": "code",
      "metadata": {
        "id": "jk2-b_J3pQu1",
        "colab": {
          "base_uri": "https://localhost:8080/"
        },
        "outputId": "24908936-6215-45a7-9f6e-4d5d65f4560f"
      },
      "source": [
        "df.iloc[:,1:].values"
      ],
      "execution_count": 167,
      "outputs": [
        {
          "output_type": "execute_result",
          "data": {
            "text/plain": [
              "array([[ 1,  2,  3],\n",
              "       [ 5,  6,  7],\n",
              "       [ 9, 10, 11],\n",
              "       [13, 14, 15],\n",
              "       [17, 18, 19]])"
            ]
          },
          "metadata": {},
          "execution_count": 167
        }
      ]
    },
    {
      "cell_type": "code",
      "metadata": {
        "id": "xrgDcUixpU4R",
        "colab": {
          "base_uri": "https://localhost:8080/"
        },
        "outputId": "d18b28ae-444f-40f1-bc26-3ccfbb56d41f"
      },
      "source": [
        "df.iloc[:,1:].values.shape"
      ],
      "execution_count": 168,
      "outputs": [
        {
          "output_type": "execute_result",
          "data": {
            "text/plain": [
              "(5, 3)"
            ]
          },
          "metadata": {},
          "execution_count": 168
        }
      ]
    },
    {
      "cell_type": "code",
      "metadata": {
        "id": "ZsaI3o5Ppgq6",
        "colab": {
          "base_uri": "https://localhost:8080/"
        },
        "outputId": "5e8be9ed-d141-405c-e7ad-af1a0bc03044"
      },
      "source": [
        "df.isnull().sum()#check if null values are there in any column"
      ],
      "execution_count": 169,
      "outputs": [
        {
          "output_type": "execute_result",
          "data": {
            "text/plain": [
              "column1    0\n",
              "column2    0\n",
              "column3    0\n",
              "column4    0\n",
              "dtype: int64"
            ]
          },
          "metadata": {},
          "execution_count": 169
        }
      ]
    },
    {
      "cell_type": "code",
      "metadata": {
        "id": "R4mSVnSFppx-",
        "colab": {
          "base_uri": "https://localhost:8080/"
        },
        "outputId": "eb1038cc-6451-46ba-81c9-c819475f7c57"
      },
      "source": [
        "df['column1'].value_counts()#which item is present how many times in a specific column"
      ],
      "execution_count": 170,
      "outputs": [
        {
          "output_type": "execute_result",
          "data": {
            "text/plain": [
              "0     1\n",
              "4     1\n",
              "8     1\n",
              "12    1\n",
              "16    1\n",
              "Name: column1, dtype: int64"
            ]
          },
          "metadata": {},
          "execution_count": 170
        }
      ]
    },
    {
      "cell_type": "code",
      "metadata": {
        "id": "y1R74PpBp3vf",
        "colab": {
          "base_uri": "https://localhost:8080/"
        },
        "outputId": "bfd7ba2f-caed-4457-c72b-4eaf4549403d"
      },
      "source": [
        "df['column1'].unique()#only unique values is shown here - no repeated values : for our mentioned column"
      ],
      "execution_count": 171,
      "outputs": [
        {
          "output_type": "execute_result",
          "data": {
            "text/plain": [
              "array([ 0,  4,  8, 12, 16])"
            ]
          },
          "metadata": {},
          "execution_count": 171
        }
      ]
    }
  ]
}